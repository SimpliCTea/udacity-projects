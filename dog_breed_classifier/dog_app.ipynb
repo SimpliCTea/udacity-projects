{
 "cells": [
  {
   "cell_type": "markdown",
   "metadata": {},
   "source": [
    "# Data Scientist Nanodegree\n",
    "\n",
    "## Convolutional Neural Networks\n",
    "\n",
    "## Project: Write an Algorithm for a Dog Identification App \n",
    "\n",
    "\n",
    "This notebook walks you through one of the most popular Udacity projects across machine learning and artificial intellegence nanodegree programs.  The goal is to classify images of dogs according to their breed.  \n",
    "\n",
    "If you are looking for a more guided capstone project related to deep learning and convolutional neural networks, this might be just it.  Notice that even if you follow the notebook to creating your classifier, you must still create a blog post or deploy an application to fulfill the requirements of the capstone project.\n",
    "\n",
    "Also notice, you may be able to use only parts of this notebook (for example certain coding portions or the data) without completing all parts and still meet all requirements of the capstone project.\n",
    "\n",
    "---\n",
    "\n",
    "In this notebook, some template code has already been provided for you, and you will need to implement additional functionality to successfully complete this project. You will not need to modify the included code beyond what is requested. Sections that begin with **'(IMPLEMENTATION)'** in the header indicate that the following block of code will require additional functionality which you must provide. Instructions will be provided for each section, and the specifics of the implementation are marked in the code block with a 'TODO' statement. Please be sure to read the instructions carefully! \n",
    "\n",
    "In addition to implementing code, there will be questions that you must answer which relate to the project and your implementation. Each section where you will answer a question is preceded by a **'Question X'** header. Carefully read each question and provide thorough answers in the following text boxes that begin with **'Answer:'**. Your project submission will be evaluated based on your answers to each of the questions and the implementation you provide.\n",
    "\n",
    ">**Note:** Code and Markdown cells can be executed using the **Shift + Enter** keyboard shortcut.  Markdown cells can be edited by double-clicking the cell to enter edit mode.\n",
    "\n",
    "The rubric contains _optional_ \"Stand Out Suggestions\" for enhancing the project beyond the minimum requirements. If you decide to pursue the \"Stand Out Suggestions\", you should include the code in this IPython notebook.\n",
    "\n",
    "\n",
    "\n",
    "---\n",
    "### Why We're Here \n",
    "\n",
    "In this notebook, you will make the first steps towards developing an algorithm that could be used as part of a mobile or web app.  At the end of this project, your code will accept any user-supplied image as input.  If a dog is detected in the image, it will provide an estimate of the dog's breed.  If a human is detected, it will provide an estimate of the dog breed that is most resembling.  The image below displays potential sample output of your finished project (... but we expect that each student's algorithm will behave differently!). \n",
    "\n",
    "![Sample Dog Output](images/sample_dog_output.png)\n",
    "\n",
    "In this real-world setting, you will need to piece together a series of models to perform different tasks; for instance, the algorithm that detects humans in an image will be different from the CNN that infers dog breed.  There are many points of possible failure, and no perfect algorithm exists.  Your imperfect solution will nonetheless create a fun user experience!\n",
    "\n",
    "### The Road Ahead\n",
    "\n",
    "We break the notebook into separate steps.  Feel free to use the links below to navigate the notebook.\n",
    "\n",
    "* [Step 0](#step0): Import Datasets\n",
    "* [Step 1](#step1): Detect Humans\n",
    "* [Step 2](#step2): Detect Dogs\n",
    "* [Step 3](#step3): Create a CNN to Classify Dog Breeds (from Scratch)\n",
    "* [Step 4](#step4): Use a CNN to Classify Dog Breeds (using Transfer Learning)\n",
    "* [Step 5](#step5): Create a CNN to Classify Dog Breeds (using Transfer Learning)\n",
    "* [Step 6](#step6): Write your Algorithm\n",
    "* [Step 7](#step7): Test Your Algorithm\n",
    "\n",
    "---\n",
    "<a id='step0'></a>\n",
    "## Step 0: Import Datasets\n",
    "\n",
    "### Import Dog Dataset\n",
    "\n",
    "In the code cell below, we import a dataset of dog images.  We populate a few variables through the use of the `load_files` function from the scikit-learn library:\n",
    "- `train_files`, `valid_files`, `test_files` - numpy arrays containing file paths to images\n",
    "- `train_targets`, `valid_targets`, `test_targets` - numpy arrays containing onehot-encoded classification labels \n",
    "- `dog_names` - list of string-valued dog breed names for translating labels"
   ]
  },
  {
   "cell_type": "code",
   "execution_count": 1,
   "metadata": {},
   "outputs": [
    {
     "data": {
      "text/plain": [
       "'/home/workspace/dog-project'"
      ]
     },
     "execution_count": 1,
     "metadata": {},
     "output_type": "execute_result"
    }
   ],
   "source": [
    "pwd"
   ]
  },
  {
   "cell_type": "code",
   "execution_count": 55,
   "metadata": {},
   "outputs": [
    {
     "name": "stdout",
     "output_type": "stream",
     "text": [
      "There are 133 total dog categories.\n",
      "There are 8351 total dog images.\n",
      "\n",
      "There are 6680 training dog images.\n",
      "There are 835 validation dog images.\n",
      "There are 836 test dog images.\n"
     ]
    }
   ],
   "source": [
    "from sklearn.datasets import load_files       \n",
    "from keras.utils import np_utils\n",
    "import numpy as np\n",
    "from glob import glob\n",
    "\n",
    "# define function to load train, test, and validation datasets\n",
    "def load_dataset(path):\n",
    "    data = load_files(path)\n",
    "    dog_files = np.array(data['filenames'])\n",
    "    dog_targets = np_utils.to_categorical(np.array(data['target']), 133)\n",
    "    return dog_files, dog_targets\n",
    "\n",
    "# load train, test, and validation datasets\n",
    "train_files, train_targets = load_dataset('../../../data/dog_images/train')\n",
    "valid_files, valid_targets = load_dataset('../../../data/dog_images/valid')\n",
    "test_files, test_targets = load_dataset('../../../data/dog_images/test')"
   ]
  },
  {
   "cell_type": "code",
   "execution_count": 65,
   "metadata": {},
   "outputs": [],
   "source": [
    "# load list of dog names\n",
    "# INFO: Adjust this depending on the path - the deeper your directory structure is the larger the path name, thus \n",
    "# you'll have to cut off more in the beginning of the name\n",
    "dog_names = [item[35:-1] for item in sorted(glob(\"../../../data/dog_images/train/*/\"))]"
   ]
  },
  {
   "cell_type": "code",
   "execution_count": 58,
   "metadata": {},
   "outputs": [
    {
     "name": "stdout",
     "output_type": "stream",
     "text": [
      "There are 133 total dog categories.\n",
      "There are 8351 total dog images.\n",
      "\n",
      "There are 6680 training dog images.\n",
      "There are 835 validation dog images.\n",
      "There are 836 test dog images.\n"
     ]
    }
   ],
   "source": [
    "# print statistics about the dataset\n",
    "print('There are %d total dog categories.' % len(dog_names))\n",
    "print('There are %s total dog images.\\n' % len(np.hstack([train_files, valid_files, test_files])))\n",
    "print('There are %d training dog images.' % len(train_files))\n",
    "print('There are %d validation dog images.' % len(valid_files))\n",
    "print('There are %d test dog images.'% len(test_files))"
   ]
  },
  {
   "cell_type": "code",
   "execution_count": 66,
   "metadata": {},
   "outputs": [
    {
     "data": {
      "text/plain": [
       "'Affenpinscher'"
      ]
     },
     "execution_count": 66,
     "metadata": {},
     "output_type": "execute_result"
    }
   ],
   "source": [
    "dog_names[0]"
   ]
  },
  {
   "cell_type": "markdown",
   "metadata": {},
   "source": [
    "### Import Human Dataset\n",
    "\n",
    "In the code cell below, we import a dataset of human images, where the file paths are stored in the numpy array `human_files`."
   ]
  },
  {
   "cell_type": "code",
   "execution_count": 3,
   "metadata": {},
   "outputs": [
    {
     "name": "stdout",
     "output_type": "stream",
     "text": [
      "There are 13233 total human images.\n"
     ]
    }
   ],
   "source": [
    "import random\n",
    "random.seed(8675309)\n",
    "\n",
    "# load filenames in shuffled human dataset\n",
    "human_files = np.array(glob(\"../../../data/lfw/*/*\"))\n",
    "random.shuffle(human_files)\n",
    "\n",
    "# print statistics about the dataset\n",
    "print('There are %d total human images.' % len(human_files))"
   ]
  },
  {
   "cell_type": "markdown",
   "metadata": {},
   "source": [
    "---\n",
    "<a id='step1'></a>\n",
    "## Step 1: Detect Humans\n",
    "\n",
    "We use OpenCV's implementation of [Haar feature-based cascade classifiers](http://docs.opencv.org/trunk/d7/d8b/tutorial_py_face_detection.html) to detect human faces in images.  OpenCV provides many pre-trained face detectors, stored as XML files on [github](https://github.com/opencv/opencv/tree/master/data/haarcascades).  We have downloaded one of these detectors and stored it in the `haarcascades` directory.\n",
    "\n",
    "In the next code cell, we demonstrate how to use this detector to find human faces in a sample image."
   ]
  },
  {
   "cell_type": "code",
   "execution_count": 4,
   "metadata": {},
   "outputs": [
    {
     "name": "stdout",
     "output_type": "stream",
     "text": [
      "Number of faces detected: 1\n"
     ]
    },
    {
     "data": {
      "image/png": "[encoded data removed]",
      "text/plain": [
       "<matplotlib.figure.Figure at 0x7fabaccc58d0>"
      ]
     },
     "metadata": {
      "needs_background": "light"
     },
     "output_type": "display_data"
    }
   ],
   "source": [
    "import cv2                \n",
    "import matplotlib.pyplot as plt                        \n",
    "%matplotlib inline                               \n",
    "\n",
    "# extract pre-trained face detector\n",
    "face_cascade = cv2.CascadeClassifier('haarcascades/haarcascade_frontalface_alt.xml')\n",
    "\n",
    "# load color (BGR) image\n",
    "img = cv2.imread(human_files[3])\n",
    "# convert BGR image to grayscale\n",
    "gray = cv2.cvtColor(img, cv2.COLOR_BGR2GRAY)\n",
    "\n",
    "# find faces in image\n",
    "faces = face_cascade.detectMultiScale(gray)\n",
    "\n",
    "# print number of faces detected in the image\n",
    "print('Number of faces detected:', len(faces))\n",
    "\n",
    "# get bounding box for each detected face\n",
    "for (x,y,w,h) in faces:\n",
    "    # add bounding box to color image\n",
    "    cv2.rectangle(img,(x,y),(x+w,y+h),(255,0,0),2)\n",
    "    \n",
    "# convert BGR image to RGB for plotting\n",
    "cv_rgb = cv2.cvtColor(img, cv2.COLOR_BGR2RGB)\n",
    "\n",
    "# display the image, along with bounding box\n",
    "plt.imshow(cv_rgb)\n",
    "plt.show()"
   ]
  },
  {
   "cell_type": "markdown",
   "metadata": {},
   "source": [
    "Before using any of the face detectors, it is standard procedure to convert the images to grayscale.  The `detectMultiScale` function executes the classifier stored in `face_cascade` and takes the grayscale image as a parameter.  \n",
    "\n",
    "In the above code, `faces` is a numpy array of detected faces, where each row corresponds to a detected face.  Each detected face is a 1D array with four entries that specifies the bounding box of the detected face.  The first two entries in the array (extracted in the above code as `x` and `y`) specify the horizontal and vertical positions of the top left corner of the bounding box.  The last two entries in the array (extracted here as `w` and `h`) specify the width and height of the box.\n",
    "\n",
    "### Write a Human Face Detector\n",
    "\n",
    "We can use this procedure to write a function that returns `True` if a human face is detected in an image and `False` otherwise.  This function, aptly named `face_detector`, takes a string-valued file path to an image as input and appears in the code block below."
   ]
  },
  {
   "cell_type": "code",
   "execution_count": 5,
   "metadata": {},
   "outputs": [],
   "source": [
    "# returns \"True\" if face is detected in image stored at img_path\n",
    "def face_detector(img_path):\n",
    "    img = cv2.imread(img_path)\n",
    "    gray = cv2.cvtColor(img, cv2.COLOR_BGR2GRAY)\n",
    "    faces = face_cascade.detectMultiScale(gray)\n",
    "    return len(faces) > 0"
   ]
  },
  {
   "cell_type": "code",
   "execution_count": 6,
   "metadata": {},
   "outputs": [
    {
     "name": "stdout",
     "output_type": "stream",
     "text": [
      "Face detected!\n"
     ]
    }
   ],
   "source": [
    "if face_detector(human_files[3]):\n",
    "    print('Face detected!')"
   ]
  },
  {
   "cell_type": "markdown",
   "metadata": {},
   "source": [
    "### (IMPLEMENTATION) Assess the Human Face Detector\n",
    "\n",
    "__Question 1:__ Use the code cell below to test the performance of the `face_detector` function.  \n",
    "- What percentage of the first 100 images in `human_files` have a detected human face?  \n",
    "- What percentage of the first 100 images in `dog_files` have a detected human face? \n",
    "\n",
    "Ideally, we would like 100% of human images with a detected face and 0% of dog images with a detected face.  You will see that our algorithm falls short of this goal, but still gives acceptable performance.  We extract the file paths for the first 100 images from each of the datasets and store them in the numpy arrays `human_files_short` and `dog_files_short`.\n",
    "\n",
    "__Answer:__ "
   ]
  },
  {
   "cell_type": "code",
   "execution_count": 7,
   "metadata": {},
   "outputs": [],
   "source": [
    "human_files_short = human_files[:100]\n",
    "dog_files_short = train_files[:100]\n",
    "# Do NOT modify the code above this line."
   ]
  },
  {
   "cell_type": "code",
   "execution_count": 8,
   "metadata": {},
   "outputs": [],
   "source": [
    "## TODO: Test the performance of the face_detector algorithm \n",
    "## on the images in human_files_short and dog_files_short.\n",
    "def test_detector(detector, detector_type, ideal_result):\n",
    "    # setup vars\n",
    "    num_samples = 100\n",
    "    num_faces_humans = 0 # should ideally increase to 100\n",
    "    num_faces_dogs = 0 # should ideally stay 0\n",
    "    # loop over human images\n",
    "    for idx in range(num_samples):\n",
    "        if detector(human_files_short[idx]):\n",
    "            num_faces_humans += 1\n",
    "        if detector(dog_files_short[idx]):\n",
    "            num_faces_dogs  += 1\n",
    "    # print results\n",
    "    result_string = 'Percentage of {} images where a {} was detected: {:.2f}% - Ideally {}%'\n",
    "    print(result_string.format('human', detector_type, 100 * num_faces_humans / num_samples, ideal_result[0]))\n",
    "    print(result_string.format('dog', detector_type, 100 * num_faces_dogs / num_samples, ideal_result[1]))"
   ]
  },
  {
   "cell_type": "code",
   "execution_count": 9,
   "metadata": {},
   "outputs": [
    {
     "name": "stdout",
     "output_type": "stream",
     "text": [
      "Percentage of human images where a face was detected: 100.00% - Ideally 100%\n",
      "Percentage of dog images where a face was detected: 11.00% - Ideally 0%\n"
     ]
    }
   ],
   "source": [
    "test_detector(face_detector, 'face', (100,0))"
   ]
  },
  {
   "cell_type": "markdown",
   "metadata": {},
   "source": [
    "__Question 2:__ This algorithmic choice necessitates that we communicate to the user that we accept human images only when they provide a clear view of a face (otherwise, we risk having unneccessarily frustrated users!). In your opinion, is this a reasonable expectation to pose on the user? If not, can you think of a way to detect humans in images that does not necessitate an image with a clearly presented face?\n",
    "\n",
    "__Answer:__\n",
    "I think it's reasonable to expect an image with a face and as long as this is clearly communicated with the user should not cause any issues. I think when using this app to detect the resembling dog breed of a human the intuition would be providing an image with a human face anyhow. There won't be much frustration of the users due to this.\n",
    "\n",
    "---\n",
    "We suggest the face detector from OpenCV as a potential way to detect human images in your algorithm, but you are free to explore other approaches, especially approaches that make use of deep learning :).  Please use the code cell below to design and test your own face detection algorithm.  If you decide to pursue this _optional_ task, report performance on each of the datasets."
   ]
  },
  {
   "cell_type": "code",
   "execution_count": null,
   "metadata": {
    "collapsed": true
   },
   "outputs": [],
   "source": [
    "## (Optional) TODO: Report the performance of another  \n",
    "## face detection algorithm on the LFW dataset\n",
    "### Feel free to use as many code cells as needed."
   ]
  },
  {
   "cell_type": "markdown",
   "metadata": {},
   "source": [
    "---\n",
    "<a id='step2'></a>\n",
    "## Step 2: Detect Dogs\n",
    "\n",
    "In this section, we use a pre-trained [ResNet-50](http://ethereon.github.io/netscope/#/gist/db945b393d40bfa26006) model to detect dogs in images.  Our first line of code downloads the ResNet-50 model, along with weights that have been trained on [ImageNet](http://www.image-net.org/), a very large, very popular dataset used for image classification and other vision tasks.  ImageNet contains over 10 million URLs, each linking to an image containing an object from one of [1000 categories](https://gist.github.com/yrevar/942d3a0ac09ec9e5eb3a).  Given an image, this pre-trained ResNet-50 model returns a prediction (derived from the available categories in ImageNet) for the object that is contained in the image."
   ]
  },
  {
   "cell_type": "code",
   "execution_count": 10,
   "metadata": {},
   "outputs": [
    {
     "name": "stdout",
     "output_type": "stream",
     "text": [
      "Downloading data from https://github.com/fchollet/deep-learning-models/releases/download/v0.2/resnet50_weights_tf_dim_ordering_tf_kernels.h5\n",
      "102858752/102853048 [==============================] - 1s 0us/step\n"
     ]
    }
   ],
   "source": [
    "from keras.applications.resnet50 import ResNet50\n",
    "\n",
    "# define ResNet50 model\n",
    "ResNet50_model = ResNet50(weights='imagenet')"
   ]
  },
  {
   "cell_type": "markdown",
   "metadata": {},
   "source": [
    "### Pre-process the Data\n",
    "\n",
    "When using TensorFlow as backend, Keras CNNs require a 4D array (which we'll also refer to as a 4D tensor) as input, with shape\n",
    "\n",
    "$$\n",
    "(\\text{nb_samples}, \\text{rows}, \\text{columns}, \\text{channels}),\n",
    "$$\n",
    "\n",
    "where `nb_samples` corresponds to the total number of images (or samples), and `rows`, `columns`, and `channels` correspond to the number of rows, columns, and channels for each image, respectively.  \n",
    "\n",
    "The `path_to_tensor` function below takes a string-valued file path to a color image as input and returns a 4D tensor suitable for supplying to a Keras CNN.  The function first loads the image and resizes it to a square image that is $224 \\times 224$ pixels.  Next, the image is converted to an array, which is then resized to a 4D tensor.  In this case, since we are working with color images, each image has three channels.  Likewise, since we are processing a single image (or sample), the returned tensor will always have shape\n",
    "\n",
    "$$\n",
    "(1, 224, 224, 3).\n",
    "$$\n",
    "\n",
    "The `paths_to_tensor` function takes a numpy array of string-valued image paths as input and returns a 4D tensor with shape \n",
    "\n",
    "$$\n",
    "(\\text{nb_samples}, 224, 224, 3).\n",
    "$$\n",
    "\n",
    "Here, `nb_samples` is the number of samples, or number of images, in the supplied array of image paths.  It is best to think of `nb_samples` as the number of 3D tensors (where each 3D tensor corresponds to a different image) in your dataset!"
   ]
  },
  {
   "cell_type": "code",
   "execution_count": 14,
   "metadata": {},
   "outputs": [],
   "source": [
    "from keras.preprocessing import image                  \n",
    "from tqdm import tqdm\n",
    "\n",
    "def path_to_tensor(img_path):\n",
    "    # loads RGB image as PIL.Image.Image type\n",
    "    img = image.load_img(img_path, target_size=(224, 224))\n",
    "    # convert PIL.Image.Image type to 3D tensor with shape (224, 224, 3)\n",
    "    x = image.img_to_array(img)\n",
    "    # convert 3D tensor to 4D tensor with shape (1, 224, 224, 3) and return 4D tensor\n",
    "    return np.expand_dims(x, axis=0)\n",
    "\n",
    "def paths_to_tensor(img_paths):\n",
    "    list_of_tensors = [path_to_tensor(img_path) for img_path in tqdm(img_paths)]\n",
    "    return np.vstack(list_of_tensors)"
   ]
  },
  {
   "cell_type": "markdown",
   "metadata": {},
   "source": [
    "### Making Predictions with ResNet-50\n",
    "\n",
    "Getting the 4D tensor ready for ResNet-50, and for any other pre-trained model in Keras, requires some additional processing.  First, the RGB image is converted to BGR by reordering the channels.  All pre-trained models have the additional normalization step that the mean pixel (expressed in RGB as $[103.939, 116.779, 123.68]$ and calculated from all pixels in all images in ImageNet) must be subtracted from every pixel in each image.  This is implemented in the imported function `preprocess_input`.  If you're curious, you can check the code for `preprocess_input` [here](https://github.com/fchollet/keras/blob/master/keras/applications/imagenet_utils.py).\n",
    "\n",
    "Now that we have a way to format our image for supplying to ResNet-50, we are now ready to use the model to extract the predictions.  This is accomplished with the `predict` method, which returns an array whose $i$-th entry is the model's predicted probability that the image belongs to the $i$-th ImageNet category.  This is implemented in the `ResNet50_predict_labels` function below.\n",
    "\n",
    "By taking the argmax of the predicted probability vector, we obtain an integer corresponding to the model's predicted object class, which we can identify with an object category through the use of this [dictionary](https://gist.github.com/yrevar/942d3a0ac09ec9e5eb3a). "
   ]
  },
  {
   "cell_type": "code",
   "execution_count": 11,
   "metadata": {},
   "outputs": [],
   "source": [
    "from keras.applications.resnet50 import preprocess_input, decode_predictions\n",
    "\n",
    "def ResNet50_predict_labels(img_path):\n",
    "    # returns prediction vector for image located at img_path\n",
    "    img = preprocess_input(path_to_tensor(img_path))\n",
    "    return np.argmax(ResNet50_model.predict(img))"
   ]
  },
  {
   "cell_type": "markdown",
   "metadata": {},
   "source": [
    "### Write a Dog Detector\n",
    "\n",
    "While looking at the [dictionary](https://gist.github.com/yrevar/942d3a0ac09ec9e5eb3a), you will notice that the categories corresponding to dogs appear in an uninterrupted sequence and correspond to dictionary keys 151-268, inclusive, to include all categories from `'Chihuahua'` to `'Mexican hairless'`.  Thus, in order to check to see if an image is predicted to contain a dog by the pre-trained ResNet-50 model, we need only check if the `ResNet50_predict_labels` function above returns a value between 151 and 268 (inclusive).\n",
    "\n",
    "We use these ideas to complete the `dog_detector` function below, which returns `True` if a dog is detected in an image (and `False` if not)."
   ]
  },
  {
   "cell_type": "code",
   "execution_count": 12,
   "metadata": {},
   "outputs": [],
   "source": [
    "### returns \"True\" if a dog is detected in the image stored at img_path\n",
    "def dog_detector(img_path):\n",
    "    prediction = ResNet50_predict_labels(img_path)\n",
    "    return ((prediction <= 268) & (prediction >= 151)) "
   ]
  },
  {
   "cell_type": "code",
   "execution_count": 15,
   "metadata": {},
   "outputs": [
    {
     "name": "stdout",
     "output_type": "stream",
     "text": [
      "Dog detected!\n"
     ]
    }
   ],
   "source": [
    "if dog_detector(dog_files_short[0]):\n",
    "    print('Dog detected!')"
   ]
  },
  {
   "cell_type": "markdown",
   "metadata": {},
   "source": [
    "### (IMPLEMENTATION) Assess the Dog Detector\n",
    "\n",
    "__Question 3:__ Use the code cell below to test the performance of your `dog_detector` function.  \n",
    "- What percentage of the images in `human_files_short` have a detected dog?  \n",
    "- What percentage of the images in `dog_files_short` have a detected dog?\n",
    "\n",
    "__Answer:__ "
   ]
  },
  {
   "cell_type": "code",
   "execution_count": 16,
   "metadata": {},
   "outputs": [
    {
     "name": "stdout",
     "output_type": "stream",
     "text": [
      "Percentage of human images where a dog was detected: 0.00% - Ideally 0%\n",
      "Percentage of dog images where a dog was detected: 100.00% - Ideally 100%\n"
     ]
    }
   ],
   "source": [
    "### TODO: Test the performance of the dog_detector function\n",
    "### on the images in human_files_short and dog_files_short.\n",
    "test_detector(dog_detector, 'dog', (0,100))"
   ]
  },
  {
   "cell_type": "markdown",
   "metadata": {},
   "source": [
    "---\n",
    "<a id='step3'></a>\n",
    "## Step 3: Create a CNN to Classify Dog Breeds (from Scratch)\n",
    "\n",
    "Now that we have functions for detecting humans and dogs in images, we need a way to predict breed from images.  In this step, you will create a CNN that classifies dog breeds.  You must create your CNN _from scratch_ (so, you can't use transfer learning _yet_!), and you must attain a test accuracy of at least 1%.  In Step 5 of this notebook, you will have the opportunity to use transfer learning to create a CNN that attains greatly improved accuracy.\n",
    "\n",
    "Be careful with adding too many trainable layers!  More parameters means longer training, which means you are more likely to need a GPU to accelerate the training process.  Thankfully, Keras provides a handy estimate of the time that each epoch is likely to take; you can extrapolate this estimate to figure out how long it will take for your algorithm to train. \n",
    "\n",
    "We mention that the task of assigning breed to dogs from images is considered exceptionally challenging.  To see why, consider that *even a human* would have great difficulty in distinguishing between a Brittany and a Welsh Springer Spaniel.  \n",
    "\n",
    "Brittany | Welsh Springer Spaniel\n",
    "- | - \n",
    "<img src=\"images/Brittany_02625.jpg\" width=\"100\"> | <img src=\"images/Welsh_springer_spaniel_08203.jpg\" width=\"200\">\n",
    "\n",
    "It is not difficult to find other dog breed pairs with minimal inter-class variation (for instance, Curly-Coated Retrievers and American Water Spaniels).  \n",
    "\n",
    "Curly-Coated Retriever | American Water Spaniel\n",
    "- | -\n",
    "<img src=\"images/Curly-coated_retriever_03896.jpg\" width=\"200\"> | <img src=\"images/American_water_spaniel_00648.jpg\" width=\"200\">\n",
    "\n",
    "\n",
    "Likewise, recall that labradors come in yellow, chocolate, and black.  Your vision-based algorithm will have to conquer this high intra-class variation to determine how to classify all of these different shades as the same breed.  \n",
    "\n",
    "Yellow Labrador | Chocolate Labrador | Black Labrador\n",
    "- | -\n",
    "<img src=\"images/Labrador_retriever_06457.jpg\" width=\"150\"> | <img src=\"images/Labrador_retriever_06455.jpg\" width=\"240\"> | <img src=\"images/Labrador_retriever_06449.jpg\" width=\"220\">\n",
    "\n",
    "We also mention that random chance presents an exceptionally low bar: setting aside the fact that the classes are slightly imabalanced, a random guess will provide a correct answer roughly 1 in 133 times, which corresponds to an accuracy of less than 1%.  \n",
    "\n",
    "Remember that the practice is far ahead of the theory in deep learning.  Experiment with many different architectures, and trust your intuition.  And, of course, have fun! \n",
    "\n",
    "### Pre-process the Data\n",
    "\n",
    "We rescale the images by dividing every pixel in every image by 255."
   ]
  },
  {
   "cell_type": "code",
   "execution_count": 15,
   "metadata": {},
   "outputs": [
    {
     "name": "stderr",
     "output_type": "stream",
     "text": [
      "100%|██████████| 6680/6680 [01:13<00:00, 91.44it/s] \n",
      "100%|██████████| 835/835 [00:08<00:00, 101.75it/s]\n",
      "100%|██████████| 836/836 [00:08<00:00, 102.51it/s]\n"
     ]
    }
   ],
   "source": [
    "from PIL import ImageFile                            \n",
    "ImageFile.LOAD_TRUNCATED_IMAGES = True                 \n",
    "\n",
    "# pre-process the data for Keras\n",
    "train_tensors = paths_to_tensor(train_files).astype('float32')/255\n",
    "valid_tensors = paths_to_tensor(valid_files).astype('float32')/255\n",
    "test_tensors = paths_to_tensor(test_files).astype('float32')/255"
   ]
  },
  {
   "cell_type": "markdown",
   "metadata": {},
   "source": [
    "### (IMPLEMENTATION) Model Architecture\n",
    "\n",
    "Create a CNN to classify dog breed.  At the end of your code cell block, summarize the layers of your model by executing the line:\n",
    "    \n",
    "        model.summary()\n",
    "\n",
    "We have imported some Python modules to get you started, but feel free to import as many modules as you need.  If you end up getting stuck, here's a hint that specifies a model that trains relatively fast on CPU and attains >1% test accuracy in 5 epochs:\n",
    "\n",
    "![Sample CNN](images/sample_cnn.png)\n",
    "           \n",
    "__Question 4:__ Outline the steps you took to get to your final CNN architecture and your reasoning at each step.  If you chose to use the hinted architecture above, describe why you think that CNN architecture should work well for the image classification task.\n",
    "\n",
    "__Answer:__ A classic example of a good architecture to classify images is VGG. A full VGG 16 or VGG 19 takes a lot of computation time, but a similar structure only reduced to a few layers could provide decent results already. In the model below I'll use 2 vgg-like parts consisting of 2 conv layers followed by a pooling layer and dropout. I'll leave the number of features rather small to increase computation time. Then I'll add another set of layers: another conv with more filters and smaller window followed by another max pooling layer and again dropout. I'll finalize the network with a global avg pooling layer to reduce dimensionality and then use a single fully connected layer to map the prediction to the 133 classes. \n",
    "\n",
    "This structure is still very small and likely to not produce a high success rate, it should yield an accuracy well above 1% though."
   ]
  },
  {
   "cell_type": "code",
   "execution_count": 21,
   "metadata": {},
   "outputs": [],
   "source": [
    "from keras.layers import Conv2D, MaxPooling2D, GlobalAveragePooling2D\n",
    "from keras.layers import Dropout, Flatten, Dense\n",
    "from keras.models import Sequential"
   ]
  },
  {
   "cell_type": "code",
   "execution_count": 16,
   "metadata": {},
   "outputs": [
    {
     "name": "stdout",
     "output_type": "stream",
     "text": [
      "_________________________________________________________________\n",
      "Layer (type)                 Output Shape              Param #   \n",
      "=================================================================\n",
      "conv2d_1 (Conv2D)            (None, 224, 224, 16)      448       \n",
      "_________________________________________________________________\n",
      "conv2d_2 (Conv2D)            (None, 224, 224, 16)      2320      \n",
      "_________________________________________________________________\n",
      "max_pooling2d_2 (MaxPooling2 (None, 112, 112, 16)      0         \n",
      "_________________________________________________________________\n",
      "dropout_1 (Dropout)          (None, 112, 112, 16)      0         \n",
      "_________________________________________________________________\n",
      "conv2d_3 (Conv2D)            (None, 112, 112, 32)      4640      \n",
      "_________________________________________________________________\n",
      "conv2d_4 (Conv2D)            (None, 112, 112, 32)      9248      \n",
      "_________________________________________________________________\n",
      "max_pooling2d_3 (MaxPooling2 (None, 56, 56, 32)        0         \n",
      "_________________________________________________________________\n",
      "dropout_2 (Dropout)          (None, 56, 56, 32)        0         \n",
      "_________________________________________________________________\n",
      "conv2d_5 (Conv2D)            (None, 56, 56, 64)        8256      \n",
      "_________________________________________________________________\n",
      "max_pooling2d_4 (MaxPooling2 (None, 28, 28, 64)        0         \n",
      "_________________________________________________________________\n",
      "dropout_3 (Dropout)          (None, 28, 28, 64)        0         \n",
      "_________________________________________________________________\n",
      "global_average_pooling2d_1 ( (None, 64)                0         \n",
      "_________________________________________________________________\n",
      "dense_1 (Dense)              (None, 133)               8645      \n",
      "=================================================================\n",
      "Total params: 33,557\n",
      "Trainable params: 33,557\n",
      "Non-trainable params: 0\n",
      "_________________________________________________________________\n"
     ]
    }
   ],
   "source": [
    "model = Sequential()\n",
    "\n",
    "### TODO: Define your architecture.\n",
    "\n",
    "# for the architecture - especially the first two parts - I chose a design similar to VGG; VGG provides very good\n",
    "# results on image classification, thus using a similar structure just in reduced form may provide good results here\n",
    "# WARNING: This architecture takes quite some time to train on a CPU -> GPU usage is recommended\n",
    "\n",
    "# part 1: VGG-like architecture with 2 conv layers followed by a pooling layer to reduce dimensions and a dropout\n",
    "# layer to combat overfitting\n",
    "model.add(Conv2D(filters=16, kernel_size=3, padding='same', activation ='relu', \n",
    "                 input_shape=(224,224,3)))\n",
    "model.add(Conv2D(filters=16, kernel_size=3, padding='same', activation ='relu'))\n",
    "model.add(MaxPooling2D(pool_size=2))\n",
    "model.add(Dropout(0.25))\n",
    "# part 2: VGG-like architecture with 2 conv layers followed by a pooling layer to reduce dimensions and a dropout\n",
    "# layer to combat overfitting; the number of filters was doubled\n",
    "model.add(Conv2D(filters=32, kernel_size=3, padding='same', activation ='relu'))\n",
    "model.add(Conv2D(filters=32, kernel_size=3, padding='same', activation ='relu'))\n",
    "model.add(MaxPooling2D(pool_size=2))\n",
    "model.add(Dropout(0.25))\n",
    "# part 3: another conv layer with 64 filters this time and a kernel_size of 2 to detect additional features\n",
    "# max pooling and dropout follows much like in part 1 and 2\n",
    "model.add(Conv2D(filters=64, kernel_size=2, padding='same', activation ='relu'))\n",
    "model.add(MaxPooling2D(pool_size=2))\n",
    "model.add(Dropout(0.25))\n",
    "# part 4: global average pooling layer to greatly reduce dimensionality and thus improve training time while keeping\n",
    "# the results reasonably accurate (alternatively Flatten + Dense could be chosen but would result in a much\n",
    "# larger count of parameters that need to be trained)\n",
    "# a final fully connected layer is used to map the output onto the 133 classes, equipped with softmax\n",
    "model.add(GlobalAveragePooling2D())\n",
    "model.add(Dense(133, activation='softmax'))\n",
    "\n",
    "model.summary()"
   ]
  },
  {
   "cell_type": "markdown",
   "metadata": {},
   "source": [
    "### Compile the Model"
   ]
  },
  {
   "cell_type": "code",
   "execution_count": 17,
   "metadata": {},
   "outputs": [],
   "source": [
    "model.compile(optimizer='rmsprop', loss='categorical_crossentropy', metrics=['accuracy'])"
   ]
  },
  {
   "cell_type": "markdown",
   "metadata": {},
   "source": [
    "### (IMPLEMENTATION) Train the Model\n",
    "\n",
    "Train your model in the code cell below.  Use model checkpointing to save the model that attains the best validation loss.\n",
    "\n",
    "You are welcome to [augment the training data](https://blog.keras.io/building-powerful-image-classification-models-using-very-little-data.html), but this is not a requirement. "
   ]
  },
  {
   "cell_type": "code",
   "execution_count": 29,
   "metadata": {},
   "outputs": [],
   "source": [
    "from keras.callbacks import ModelCheckpoint  "
   ]
  },
  {
   "cell_type": "code",
   "execution_count": 18,
   "metadata": {},
   "outputs": [
    {
     "name": "stdout",
     "output_type": "stream",
     "text": [
      "Train on 6680 samples, validate on 835 samples\n",
      "Epoch 1/25\n",
      "6660/6680 [============================>.] - ETA: 0s - loss: 4.8842 - acc: 0.0089Epoch 00001: val_loss improved from inf to 4.87581, saving model to saved_models/weights.best.from_scratch.hdf5\n",
      "6680/6680 [==============================] - 47s 7ms/step - loss: 4.8842 - acc: 0.0088 - val_loss: 4.8758 - val_acc: 0.0108\n",
      "Epoch 2/25\n",
      "6660/6680 [============================>.] - ETA: 0s - loss: 4.8731 - acc: 0.0086Epoch 00002: val_loss improved from 4.87581 to 4.86583, saving model to saved_models/weights.best.from_scratch.hdf5\n",
      "6680/6680 [==============================] - 46s 7ms/step - loss: 4.8730 - acc: 0.0085 - val_loss: 4.8658 - val_acc: 0.0168\n",
      "Epoch 3/25\n",
      "6660/6680 [============================>.] - ETA: 0s - loss: 4.8602 - acc: 0.0149Epoch 00003: val_loss improved from 4.86583 to 4.84979, saving model to saved_models/weights.best.from_scratch.hdf5\n",
      "6680/6680 [==============================] - 46s 7ms/step - loss: 4.8595 - acc: 0.0148 - val_loss: 4.8498 - val_acc: 0.0120\n",
      "Epoch 4/25\n",
      "6660/6680 [============================>.] - ETA: 0s - loss: 4.8169 - acc: 0.0191Epoch 00004: val_loss improved from 4.84979 to 4.79783, saving model to saved_models/weights.best.from_scratch.hdf5\n",
      "6680/6680 [==============================] - 46s 7ms/step - loss: 4.8167 - acc: 0.0192 - val_loss: 4.7978 - val_acc: 0.0299\n",
      "Epoch 5/25\n",
      "6660/6680 [============================>.] - ETA: 0s - loss: 4.7618 - acc: 0.0231Epoch 00005: val_loss improved from 4.79783 to 4.77081, saving model to saved_models/weights.best.from_scratch.hdf5\n",
      "6680/6680 [==============================] - 46s 7ms/step - loss: 4.7620 - acc: 0.0231 - val_loss: 4.7708 - val_acc: 0.0251\n",
      "Epoch 6/25\n",
      "6660/6680 [============================>.] - ETA: 0s - loss: 4.7257 - acc: 0.0272Epoch 00006: val_loss improved from 4.77081 to 4.73095, saving model to saved_models/weights.best.from_scratch.hdf5\n",
      "6680/6680 [==============================] - 46s 7ms/step - loss: 4.7255 - acc: 0.0272 - val_loss: 4.7309 - val_acc: 0.0275\n",
      "Epoch 7/25\n",
      "6660/6680 [============================>.] - ETA: 0s - loss: 4.6879 - acc: 0.0287Epoch 00007: val_loss improved from 4.73095 to 4.69131, saving model to saved_models/weights.best.from_scratch.hdf5\n",
      "6680/6680 [==============================] - 46s 7ms/step - loss: 4.6883 - acc: 0.0286 - val_loss: 4.6913 - val_acc: 0.0419\n",
      "Epoch 8/25\n",
      "6660/6680 [============================>.] - ETA: 0s - loss: 4.6513 - acc: 0.0362Epoch 00008: val_loss improved from 4.69131 to 4.65426, saving model to saved_models/weights.best.from_scratch.hdf5\n",
      "6680/6680 [==============================] - 46s 7ms/step - loss: 4.6513 - acc: 0.0362 - val_loss: 4.6543 - val_acc: 0.0240\n",
      "Epoch 9/25\n",
      "6660/6680 [============================>.] - ETA: 0s - loss: 4.6003 - acc: 0.0372Epoch 00009: val_loss did not improve\n",
      "6680/6680 [==============================] - 46s 7ms/step - loss: 4.5999 - acc: 0.0371 - val_loss: 4.7346 - val_acc: 0.0251\n",
      "Epoch 10/25\n",
      "6660/6680 [============================>.] - ETA: 0s - loss: 4.5454 - acc: 0.0420Epoch 00010: val_loss improved from 4.65426 to 4.54192, saving model to saved_models/weights.best.from_scratch.hdf5\n",
      "6680/6680 [==============================] - 46s 7ms/step - loss: 4.5451 - acc: 0.0419 - val_loss: 4.5419 - val_acc: 0.0455\n",
      "Epoch 11/25\n",
      "6660/6680 [============================>.] - ETA: 0s - loss: 4.4885 - acc: 0.0468Epoch 00011: val_loss did not improve\n",
      "6680/6680 [==============================] - 46s 7ms/step - loss: 4.4883 - acc: 0.0467 - val_loss: 4.5845 - val_acc: 0.0407\n",
      "Epoch 12/25\n",
      "6660/6680 [============================>.] - ETA: 0s - loss: 4.4416 - acc: 0.0532Epoch 00012: val_loss improved from 4.54192 to 4.47093, saving model to saved_models/weights.best.from_scratch.hdf5\n",
      "6680/6680 [==============================] - 46s 7ms/step - loss: 4.4413 - acc: 0.0531 - val_loss: 4.4709 - val_acc: 0.0563\n",
      "Epoch 13/25\n",
      "6660/6680 [============================>.] - ETA: 0s - loss: 4.4012 - acc: 0.0530Epoch 00013: val_loss improved from 4.47093 to 4.45826, saving model to saved_models/weights.best.from_scratch.hdf5\n",
      "6680/6680 [==============================] - 46s 7ms/step - loss: 4.4003 - acc: 0.0530 - val_loss: 4.4583 - val_acc: 0.0467\n",
      "Epoch 14/25\n",
      "6660/6680 [============================>.] - ETA: 0s - loss: 4.3484 - acc: 0.0586Epoch 00014: val_loss improved from 4.45826 to 4.40147, saving model to saved_models/weights.best.from_scratch.hdf5\n",
      "6680/6680 [==============================] - 46s 7ms/step - loss: 4.3488 - acc: 0.0587 - val_loss: 4.4015 - val_acc: 0.0491\n",
      "Epoch 15/25\n",
      "6660/6680 [============================>.] - ETA: 0s - loss: 4.3120 - acc: 0.0593Epoch 00015: val_loss did not improve\n",
      "6680/6680 [==============================] - 46s 7ms/step - loss: 4.3119 - acc: 0.0594 - val_loss: 4.4315 - val_acc: 0.0503\n",
      "Epoch 16/25\n",
      "6660/6680 [============================>.] - ETA: 0s - loss: 4.2839 - acc: 0.0626Epoch 00016: val_loss improved from 4.40147 to 4.37993, saving model to saved_models/weights.best.from_scratch.hdf5\n",
      "6680/6680 [==============================] - 46s 7ms/step - loss: 4.2841 - acc: 0.0629 - val_loss: 4.3799 - val_acc: 0.0575\n",
      "Epoch 17/25\n",
      "6660/6680 [============================>.] - ETA: 0s - loss: 4.2525 - acc: 0.0622Epoch 00017: val_loss did not improve\n",
      "6680/6680 [==============================] - 46s 7ms/step - loss: 4.2515 - acc: 0.0621 - val_loss: 4.4000 - val_acc: 0.0539\n",
      "Epoch 18/25\n",
      "6660/6680 [============================>.] - ETA: 0s - loss: 4.2364 - acc: 0.0677Epoch 00018: val_loss improved from 4.37993 to 4.31659, saving model to saved_models/weights.best.from_scratch.hdf5\n",
      "6680/6680 [==============================] - 46s 7ms/step - loss: 4.2362 - acc: 0.0675 - val_loss: 4.3166 - val_acc: 0.0563\n",
      "Epoch 19/25\n",
      "6660/6680 [============================>.] - ETA: 0s - loss: 4.1975 - acc: 0.0695Epoch 00019: val_loss did not improve\n",
      "6680/6680 [==============================] - 46s 7ms/step - loss: 4.1979 - acc: 0.0693 - val_loss: 4.3320 - val_acc: 0.0707\n",
      "Epoch 20/25\n",
      "6660/6680 [============================>.] - ETA: 0s - loss: 4.1730 - acc: 0.0728Epoch 00020: val_loss improved from 4.31659 to 4.29107, saving model to saved_models/weights.best.from_scratch.hdf5\n",
      "6680/6680 [==============================] - 46s 7ms/step - loss: 4.1737 - acc: 0.0726 - val_loss: 4.2911 - val_acc: 0.0659\n",
      "Epoch 21/25\n",
      "6660/6680 [============================>.] - ETA: 0s - loss: 4.1624 - acc: 0.0752Epoch 00021: val_loss did not improve\n",
      "6680/6680 [==============================] - 46s 7ms/step - loss: 4.1630 - acc: 0.0751 - val_loss: 4.3663 - val_acc: 0.0635\n",
      "Epoch 22/25\n",
      "6660/6680 [============================>.] - ETA: 0s - loss: 4.1351 - acc: 0.0791Epoch 00022: val_loss did not improve\n",
      "6680/6680 [==============================] - 46s 7ms/step - loss: 4.1351 - acc: 0.0793 - val_loss: 4.2955 - val_acc: 0.0683\n",
      "Epoch 23/25\n",
      "6660/6680 [============================>.] - ETA: 0s - loss: 4.1199 - acc: 0.0782Epoch 00023: val_loss improved from 4.29107 to 4.25646, saving model to saved_models/weights.best.from_scratch.hdf5\n",
      "6680/6680 [==============================] - 46s 7ms/step - loss: 4.1202 - acc: 0.0783 - val_loss: 4.2565 - val_acc: 0.0754\n",
      "Epoch 24/25\n",
      "6660/6680 [============================>.] - ETA: 0s - loss: 4.0961 - acc: 0.0788Epoch 00024: val_loss did not improve\n",
      "6680/6680 [==============================] - 45s 7ms/step - loss: 4.0958 - acc: 0.0787 - val_loss: 4.3750 - val_acc: 0.0599\n",
      "Epoch 25/25\n",
      "6660/6680 [============================>.] - ETA: 0s - loss: 4.0754 - acc: 0.0874Epoch 00025: val_loss did not improve\n",
      "6680/6680 [==============================] - 46s 7ms/step - loss: 4.0773 - acc: 0.0874 - val_loss: 4.3017 - val_acc: 0.0575\n"
     ]
    },
    {
     "data": {
      "text/plain": [
       "<keras.callbacks.History at 0x7f9097719a20>"
      ]
     },
     "execution_count": 18,
     "metadata": {},
     "output_type": "execute_result"
    }
   ],
   "source": [
    "### TODO: specify the number of epochs that you would like to use to train the model.\n",
    "\n",
    "epochs = 25\n",
    "\n",
    "### Do NOT modify the code below this line.\n",
    "\n",
    "checkpointer = ModelCheckpoint(filepath='saved_models/weights.best.from_scratch.hdf5', \n",
    "                               verbose=1, save_best_only=True)\n",
    "\n",
    "model.fit(train_tensors, train_targets, \n",
    "          validation_data=(valid_tensors, valid_targets),\n",
    "          epochs=epochs, batch_size=20, callbacks=[checkpointer], verbose=1)"
   ]
  },
  {
   "cell_type": "markdown",
   "metadata": {},
   "source": [
    "### Load the Model with the Best Validation Loss"
   ]
  },
  {
   "cell_type": "code",
   "execution_count": 19,
   "metadata": {},
   "outputs": [],
   "source": [
    "model.load_weights('saved_models/weights.best.from_scratch.hdf5')"
   ]
  },
  {
   "cell_type": "markdown",
   "metadata": {},
   "source": [
    "### Test the Model\n",
    "\n",
    "Try out your model on the test dataset of dog images.  Ensure that your test accuracy is greater than 1%."
   ]
  },
  {
   "cell_type": "code",
   "execution_count": 20,
   "metadata": {},
   "outputs": [
    {
     "name": "stdout",
     "output_type": "stream",
     "text": [
      "Test accuracy: 7.2967%\n"
     ]
    }
   ],
   "source": [
    "# get index of predicted dog breed for each image in test set\n",
    "dog_breed_predictions = [np.argmax(model.predict(np.expand_dims(tensor, axis=0))) for tensor in test_tensors]\n",
    "\n",
    "# report test accuracy\n",
    "test_accuracy = 100*np.sum(np.array(dog_breed_predictions)==np.argmax(test_targets, axis=1))/len(dog_breed_predictions)\n",
    "print('Test accuracy: %.4f%%' % test_accuracy)"
   ]
  },
  {
   "cell_type": "markdown",
   "metadata": {},
   "source": [
    "---\n",
    "<a id='step4'></a>\n",
    "## Step 4: Use a CNN to Classify Dog Breeds\n",
    "\n",
    "To reduce training time without sacrificing accuracy, we show you how to train a CNN using transfer learning.  In the following step, you will get a chance to use transfer learning to train your own CNN.\n",
    "\n",
    "### Obtain Bottleneck Features"
   ]
  },
  {
   "cell_type": "code",
   "execution_count": 9,
   "metadata": {},
   "outputs": [],
   "source": [
    "bottleneck_features = np.load('bottleneck_features/DogVGG16Data.npz')\n",
    "train_VGG16 = bottleneck_features['train']\n",
    "valid_VGG16 = bottleneck_features['valid']\n",
    "test_VGG16 = bottleneck_features['test']"
   ]
  },
  {
   "cell_type": "markdown",
   "metadata": {},
   "source": [
    "### Model Architecture\n",
    "\n",
    "The model uses the pre-trained VGG-16 model as a fixed feature extractor, where the last convolutional output of VGG-16 is fed as input to our model.  We only add a global average pooling layer and a fully connected layer, where the latter contains one node for each dog category and is equipped with a softmax."
   ]
  },
  {
   "cell_type": "code",
   "execution_count": 12,
   "metadata": {},
   "outputs": [
    {
     "name": "stdout",
     "output_type": "stream",
     "text": [
      "_________________________________________________________________\n",
      "Layer (type)                 Output Shape              Param #   \n",
      "=================================================================\n",
      "global_average_pooling2d_1 ( (None, 512)               0         \n",
      "_________________________________________________________________\n",
      "dense_1 (Dense)              (None, 133)               68229     \n",
      "=================================================================\n",
      "Total params: 68,229\n",
      "Trainable params: 68,229\n",
      "Non-trainable params: 0\n",
      "_________________________________________________________________\n"
     ]
    }
   ],
   "source": [
    "VGG16_model = Sequential()\n",
    "VGG16_model.add(GlobalAveragePooling2D(input_shape=train_VGG16.shape[1:]))\n",
    "VGG16_model.add(Dense(133, activation='softmax'))\n",
    "\n",
    "VGG16_model.summary()"
   ]
  },
  {
   "cell_type": "markdown",
   "metadata": {},
   "source": [
    "### Compile the Model"
   ]
  },
  {
   "cell_type": "code",
   "execution_count": 13,
   "metadata": {},
   "outputs": [],
   "source": [
    "VGG16_model.compile(loss='categorical_crossentropy', optimizer='rmsprop', metrics=['accuracy'])"
   ]
  },
  {
   "cell_type": "markdown",
   "metadata": {},
   "source": [
    "### Train the Model"
   ]
  },
  {
   "cell_type": "code",
   "execution_count": 16,
   "metadata": {},
   "outputs": [
    {
     "name": "stdout",
     "output_type": "stream",
     "text": [
      "Train on 6680 samples, validate on 835 samples\n",
      "Epoch 1/20\n",
      "6600/6680 [============================>.] - ETA: 0s - loss: 11.4464 - acc: 0.1461Epoch 00001: val_loss improved from inf to 9.68147, saving model to saved_models/weights.best.VGG16.hdf5\n",
      "6680/6680 [==============================] - 2s 286us/step - loss: 11.4443 - acc: 0.1460 - val_loss: 9.6815 - val_acc: 0.2419\n",
      "Epoch 2/20\n",
      "6600/6680 [============================>.] - ETA: 0s - loss: 8.7045 - acc: 0.3326Epoch 00002: val_loss improved from 9.68147 to 8.69729, saving model to saved_models/weights.best.VGG16.hdf5\n",
      "6680/6680 [==============================] - 1s 202us/step - loss: 8.6922 - acc: 0.3334 - val_loss: 8.6973 - val_acc: 0.3341\n",
      "Epoch 3/20\n",
      "6480/6680 [============================>.] - ETA: 0s - loss: 7.9832 - acc: 0.4216Epoch 00003: val_loss improved from 8.69729 to 8.47991, saving model to saved_models/weights.best.VGG16.hdf5\n",
      "6680/6680 [==============================] - 1s 197us/step - loss: 7.9797 - acc: 0.4214 - val_loss: 8.4799 - val_acc: 0.3689\n",
      "Epoch 4/20\n",
      "6540/6680 [============================>.] - ETA: 0s - loss: 7.7017 - acc: 0.4607Epoch 00004: val_loss improved from 8.47991 to 8.32081, saving model to saved_models/weights.best.VGG16.hdf5\n",
      "6680/6680 [==============================] - 1s 195us/step - loss: 7.7129 - acc: 0.4603 - val_loss: 8.3208 - val_acc: 0.3892\n",
      "Epoch 5/20\n",
      "6580/6680 [============================>.] - ETA: 0s - loss: 7.5174 - acc: 0.4840Epoch 00005: val_loss improved from 8.32081 to 8.28052, saving model to saved_models/weights.best.VGG16.hdf5\n",
      "6680/6680 [==============================] - 1s 220us/step - loss: 7.5406 - acc: 0.4829 - val_loss: 8.2805 - val_acc: 0.3808\n",
      "Epoch 6/20\n",
      "6580/6680 [============================>.] - ETA: 0s - loss: 7.1656 - acc: 0.5052Epoch 00006: val_loss improved from 8.28052 to 7.73866, saving model to saved_models/weights.best.VGG16.hdf5\n",
      "6680/6680 [==============================] - 1s 218us/step - loss: 7.1485 - acc: 0.5063 - val_loss: 7.7387 - val_acc: 0.4228\n",
      "Epoch 7/20\n",
      "6520/6680 [============================>.] - ETA: 0s - loss: 6.8914 - acc: 0.5311Epoch 00007: val_loss improved from 7.73866 to 7.62791, saving model to saved_models/weights.best.VGG16.hdf5\n",
      "6680/6680 [==============================] - 1s 221us/step - loss: 6.8792 - acc: 0.5322 - val_loss: 7.6279 - val_acc: 0.4371\n",
      "Epoch 8/20\n",
      "6540/6680 [============================>.] - ETA: 0s - loss: 6.6899 - acc: 0.5472Epoch 00008: val_loss improved from 7.62791 to 7.30997, saving model to saved_models/weights.best.VGG16.hdf5\n",
      "6680/6680 [==============================] - 1s 221us/step - loss: 6.6648 - acc: 0.5485 - val_loss: 7.3100 - val_acc: 0.4551\n",
      "Epoch 9/20\n",
      "6540/6680 [============================>.] - ETA: 0s - loss: 6.4360 - acc: 0.5700Epoch 00009: val_loss improved from 7.30997 to 7.28731, saving model to saved_models/weights.best.VGG16.hdf5\n",
      "6680/6680 [==============================] - 2s 230us/step - loss: 6.4205 - acc: 0.5714 - val_loss: 7.2873 - val_acc: 0.4407\n",
      "Epoch 10/20\n",
      "6580/6680 [============================>.] - ETA: 0s - loss: 6.3396 - acc: 0.5848Epoch 00010: val_loss improved from 7.28731 to 7.22118, saving model to saved_models/weights.best.VGG16.hdf5\n",
      "6680/6680 [==============================] - 2s 264us/step - loss: 6.3230 - acc: 0.5856 - val_loss: 7.2212 - val_acc: 0.4551\n",
      "Epoch 11/20\n",
      "6460/6680 [============================>.] - ETA: 0s - loss: 6.2660 - acc: 0.5904Epoch 00011: val_loss improved from 7.22118 to 7.21637, saving model to saved_models/weights.best.VGG16.hdf5\n",
      "6680/6680 [==============================] - 2s 240us/step - loss: 6.2730 - acc: 0.5900 - val_loss: 7.2164 - val_acc: 0.4539\n",
      "Epoch 12/20\n",
      "6620/6680 [============================>.] - ETA: 0s - loss: 6.1580 - acc: 0.6026Epoch 00012: val_loss improved from 7.21637 to 7.09574, saving model to saved_models/weights.best.VGG16.hdf5\n",
      "6680/6680 [==============================] - 2s 242us/step - loss: 6.1785 - acc: 0.6013 - val_loss: 7.0957 - val_acc: 0.4731\n",
      "Epoch 13/20\n",
      "6620/6680 [============================>.] - ETA: 0s - loss: 6.1287 - acc: 0.6086Epoch 00013: val_loss did not improve\n",
      "6680/6680 [==============================] - 1s 217us/step - loss: 6.1307 - acc: 0.6084 - val_loss: 7.1334 - val_acc: 0.4719\n",
      "Epoch 14/20\n",
      "6600/6680 [============================>.] - ETA: 0s - loss: 6.0305 - acc: 0.6161Epoch 00014: val_loss improved from 7.09574 to 7.06868, saving model to saved_models/weights.best.VGG16.hdf5\n",
      "6680/6680 [==============================] - 1s 219us/step - loss: 6.0459 - acc: 0.6150 - val_loss: 7.0687 - val_acc: 0.4743\n",
      "Epoch 15/20\n",
      "6560/6680 [============================>.] - ETA: 0s - loss: 5.9054 - acc: 0.6232Epoch 00015: val_loss improved from 7.06868 to 7.03995, saving model to saved_models/weights.best.VGG16.hdf5\n",
      "6680/6680 [==============================] - 1s 212us/step - loss: 5.9012 - acc: 0.6234 - val_loss: 7.0400 - val_acc: 0.4743\n",
      "Epoch 16/20\n",
      "6560/6680 [============================>.] - ETA: 0s - loss: 5.8647 - acc: 0.6291Epoch 00016: val_loss improved from 7.03995 to 6.92996, saving model to saved_models/weights.best.VGG16.hdf5\n",
      "6680/6680 [==============================] - 1s 220us/step - loss: 5.8800 - acc: 0.6283 - val_loss: 6.9300 - val_acc: 0.4874\n",
      "Epoch 17/20\n",
      "6520/6680 [============================>.] - ETA: 0s - loss: 5.8202 - acc: 0.6296Epoch 00017: val_loss improved from 6.92996 to 6.84388, saving model to saved_models/weights.best.VGG16.hdf5\n",
      "6680/6680 [==============================] - 1s 223us/step - loss: 5.8262 - acc: 0.6293 - val_loss: 6.8439 - val_acc: 0.4898\n",
      "Epoch 18/20\n",
      "6480/6680 [============================>.] - ETA: 0s - loss: 5.7257 - acc: 0.6360Epoch 00018: val_loss improved from 6.84388 to 6.82468, saving model to saved_models/weights.best.VGG16.hdf5\n",
      "6680/6680 [==============================] - 1s 214us/step - loss: 5.7131 - acc: 0.6364 - val_loss: 6.8247 - val_acc: 0.4886\n",
      "Epoch 19/20\n",
      "6560/6680 [============================>.] - ETA: 0s - loss: 5.6685 - acc: 0.6404Epoch 00019: val_loss improved from 6.82468 to 6.82318, saving model to saved_models/weights.best.VGG16.hdf5\n",
      "6680/6680 [==============================] - 1s 219us/step - loss: 5.6641 - acc: 0.6406 - val_loss: 6.8232 - val_acc: 0.4743\n",
      "Epoch 20/20\n",
      "6620/6680 [============================>.] - ETA: 0s - loss: 5.6455 - acc: 0.6440Epoch 00020: val_loss improved from 6.82318 to 6.63530, saving model to saved_models/weights.best.VGG16.hdf5\n",
      "6680/6680 [==============================] - 1s 220us/step - loss: 5.6383 - acc: 0.6445 - val_loss: 6.6353 - val_acc: 0.5114\n"
     ]
    },
    {
     "data": {
      "text/plain": [
       "<keras.callbacks.History at 0x7f38f46415c0>"
      ]
     },
     "execution_count": 16,
     "metadata": {},
     "output_type": "execute_result"
    }
   ],
   "source": [
    "checkpointer = ModelCheckpoint(filepath='saved_models/weights.best.VGG16.hdf5', \n",
    "                               verbose=1, save_best_only=True)\n",
    "\n",
    "VGG16_model.fit(train_VGG16, train_targets, \n",
    "          validation_data=(valid_VGG16, valid_targets),\n",
    "          epochs=20, batch_size=20, callbacks=[checkpointer], verbose=1)"
   ]
  },
  {
   "cell_type": "markdown",
   "metadata": {},
   "source": [
    "### Load the Model with the Best Validation Loss"
   ]
  },
  {
   "cell_type": "code",
   "execution_count": 17,
   "metadata": {},
   "outputs": [],
   "source": [
    "VGG16_model.load_weights('saved_models/weights.best.VGG16.hdf5')"
   ]
  },
  {
   "cell_type": "markdown",
   "metadata": {},
   "source": [
    "### Test the Model\n",
    "\n",
    "Now, we can use the CNN to test how well it identifies breed within our test dataset of dog images.  We print the test accuracy below."
   ]
  },
  {
   "cell_type": "code",
   "execution_count": 18,
   "metadata": {},
   "outputs": [
    {
     "name": "stdout",
     "output_type": "stream",
     "text": [
      "Test accuracy: 51.7943%\n"
     ]
    }
   ],
   "source": [
    "# get index of predicted dog breed for each image in test set\n",
    "VGG16_predictions = [np.argmax(VGG16_model.predict(np.expand_dims(feature, axis=0))) for feature in test_VGG16]\n",
    "\n",
    "# report test accuracy\n",
    "test_accuracy = 100*np.sum(np.array(VGG16_predictions)==np.argmax(test_targets, axis=1))/len(VGG16_predictions)\n",
    "print('Test accuracy: %.4f%%' % test_accuracy)"
   ]
  },
  {
   "cell_type": "markdown",
   "metadata": {},
   "source": [
    "### Predict Dog Breed with the Model"
   ]
  },
  {
   "cell_type": "code",
   "execution_count": 45,
   "metadata": {},
   "outputs": [],
   "source": [
    "from extract_bottleneck_features import *"
   ]
  },
  {
   "cell_type": "code",
   "execution_count": 46,
   "metadata": {},
   "outputs": [],
   "source": [
    "def VGG16_predict_breed(img_path):\n",
    "    # extract bottleneck features\n",
    "    bottleneck_feature = extract_VGG16(path_to_tensor(img_path))\n",
    "    # obtain predicted vector\n",
    "    predicted_vector = VGG16_model.predict(bottleneck_feature)\n",
    "    # return dog breed that is predicted by the model\n",
    "    return dog_names[np.argmax(predicted_vector)]"
   ]
  },
  {
   "cell_type": "code",
   "execution_count": 21,
   "metadata": {},
   "outputs": [
    {
     "name": "stdout",
     "output_type": "stream",
     "text": [
      "Downloading data from https://github.com/fchollet/deep-learning-models/releases/download/v0.1/vgg16_weights_tf_dim_ordering_tf_kernels_notop.h5\n",
      "58892288/58889256 [==============================] - 1s 0us/step\n"
     ]
    },
    {
     "data": {
      "text/plain": [
       "'ages/train/079.Great_pyrenees'"
      ]
     },
     "execution_count": 21,
     "metadata": {},
     "output_type": "execute_result"
    }
   ],
   "source": [
    "VGG16_predict_breed(dog_files_short[0])"
   ]
  },
  {
   "cell_type": "markdown",
   "metadata": {},
   "source": [
    "---\n",
    "<a id='step5'></a>\n",
    "## Step 5: Create a CNN to Classify Dog Breeds (using Transfer Learning)\n",
    "\n",
    "You will now use transfer learning to create a CNN that can identify dog breed from images.  Your CNN must attain at least 60% accuracy on the test set.\n",
    "\n",
    "In Step 4, we used transfer learning to create a CNN using VGG-16 bottleneck features.  In this section, you must use the bottleneck features from a different pre-trained model.  To make things easier for you, we have pre-computed the features for all of the networks that are currently available in Keras:\n",
    "- [VGG-19](https://s3-us-west-1.amazonaws.com/udacity-aind/dog-project/DogVGG19Data.npz) bottleneck features\n",
    "- [ResNet-50](https://s3-us-west-1.amazonaws.com/udacity-aind/dog-project/DogResnet50Data.npz) bottleneck features\n",
    "- [Inception](https://s3-us-west-1.amazonaws.com/udacity-aind/dog-project/DogInceptionV3Data.npz) bottleneck features\n",
    "- [Xception](https://s3-us-west-1.amazonaws.com/udacity-aind/dog-project/DogXceptionData.npz) bottleneck features\n",
    "\n",
    "The files are encoded as such:\n",
    "\n",
    "    Dog{network}Data.npz\n",
    "    \n",
    "where `{network}`, in the above filename, can be one of `VGG19`, `Resnet50`, `InceptionV3`, or `Xception`.  Pick one of the above architectures, download the corresponding bottleneck features, and store the downloaded file in the `bottleneck_features/` folder in the repository.\n",
    "\n",
    "### (IMPLEMENTATION) Obtain Bottleneck Features\n",
    "\n",
    "In the code block below, extract the bottleneck features corresponding to the train, test, and validation sets by running the following:\n",
    "\n",
    "    bottleneck_features = np.load('bottleneck_features/Dog{network}Data.npz')\n",
    "    train_{network} = bottleneck_features['train']\n",
    "    valid_{network} = bottleneck_features['valid']\n",
    "    test_{network} = bottleneck_features['test']"
   ]
  },
  {
   "cell_type": "code",
   "execution_count": 17,
   "metadata": {},
   "outputs": [],
   "source": [
    "### TODO: Obtain bottleneck features from another pre-trained CNN.\n",
    "bottleneck_features = np.load('bottleneck_features/DogResnet50Data.npz')\n",
    "train_Resnet50 = bottleneck_features['train']\n",
    "valid_Resnet50 = bottleneck_features['valid']\n",
    "test_Resnet50 = bottleneck_features['test']"
   ]
  },
  {
   "cell_type": "markdown",
   "metadata": {},
   "source": [
    "### (IMPLEMENTATION) Model Architecture\n",
    "\n",
    "Create a CNN to classify dog breed.  At the end of your code cell block, summarize the layers of your model by executing the line:\n",
    "    \n",
    "        <your model's name>.summary()\n",
    "   \n",
    "__Question 5:__ Outline the steps you took to get to your final CNN architecture and your reasoning at each step.  Describe why you think the architecture is suitable for the current problem.\n",
    "\n",
    "__Answer:__ \n",
    "\n"
   ]
  },
  {
   "cell_type": "code",
   "execution_count": 34,
   "metadata": {},
   "outputs": [],
   "source": [
    "### TODO: Define your architecture.\n",
    "def setup_resnet(flatten=True, dropout=0.0):\n",
    "    # initialize sequential model\n",
    "    model = Sequential()\n",
    "    # decide whether to flatten the output and use a fully connected layer or use global pooling instead\n",
    "    if flatten:\n",
    "        model.add(Flatten(input_shape=train_Resnet50.shape[1:]))\n",
    "        model.add(Dense(256, activation='relu'))\n",
    "    else:\n",
    "        model.add(GlobalAveragePooling2D(input_shape=train_Resnet50.shape[1:]))\n",
    "    # add dropout and final fully connected layer\n",
    "    if dropout > 0.0:\n",
    "        model.add(Dropout(dropout))\n",
    "    model.add(Dense(133, activation='softmax'))\n",
    "    # print model summary and return the model\n",
    "    print(model.summary())\n",
    "    return model"
   ]
  },
  {
   "cell_type": "markdown",
   "metadata": {},
   "source": [
    "### (IMPLEMENTATION) Compile the Model"
   ]
  },
  {
   "cell_type": "code",
   "execution_count": 26,
   "metadata": {},
   "outputs": [],
   "source": [
    "from keras.optimizers import SGD, Adam"
   ]
  },
  {
   "cell_type": "code",
   "execution_count": 37,
   "metadata": {},
   "outputs": [],
   "source": [
    "### TODO: Compile the model.\n",
    "def compile_resnet(model, use_adam=False, lr=0.01, momentum=0.0, nestorov=False):\n",
    "    \n",
    "    if use_adam:\n",
    "        optimizer = Adam(lr=lr)\n",
    "    else:\n",
    "        optimizer = SGD(lr=lr, momentum=momentum, nesterov=nestorov)\n",
    "    \n",
    "    model.compile(loss='categorical_crossentropy', optimizer=optimizer, metrics=['accuracy'])\n",
    "    \n",
    "    return model"
   ]
  },
  {
   "cell_type": "markdown",
   "metadata": {},
   "source": [
    "### (IMPLEMENTATION) Train the Model\n",
    "\n",
    "Train your model in the code cell below.  Use model checkpointing to save the model that attains the best validation loss.  \n",
    "\n",
    "You are welcome to [augment the training data](https://blog.keras.io/building-powerful-image-classification-models-using-very-little-data.html), but this is not a requirement. "
   ]
  },
  {
   "cell_type": "code",
   "execution_count": 35,
   "metadata": {},
   "outputs": [],
   "source": [
    "### TODO: Train the model.\n",
    "def train_resnet(model, epochs=25, batch_size=32):\n",
    "    checkpointer = ModelCheckpoint(filepath='saved_models/weights.best.Resnet50.hdf5', \n",
    "                                   verbose=1, save_best_only=True)\n",
    "\n",
    "    Resnet50_model.fit(train_Resnet50, train_targets, \n",
    "              validation_data=(valid_Resnet50, valid_targets),\n",
    "              epochs=epochs, batch_size=batch_size, callbacks=[checkpointer], verbose=1)"
   ]
  },
  {
   "cell_type": "code",
   "execution_count": 38,
   "metadata": {},
   "outputs": [
    {
     "name": "stdout",
     "output_type": "stream",
     "text": [
      "_________________________________________________________________\n",
      "Layer (type)                 Output Shape              Param #   \n",
      "=================================================================\n",
      "flatten_5 (Flatten)          (None, 2048)              0         \n",
      "_________________________________________________________________\n",
      "dense_7 (Dense)              (None, 256)               524544    \n",
      "_________________________________________________________________\n",
      "dropout_3 (Dropout)          (None, 256)               0         \n",
      "_________________________________________________________________\n",
      "dense_8 (Dense)              (None, 133)               34181     \n",
      "=================================================================\n",
      "Total params: 558,725\n",
      "Trainable params: 558,725\n",
      "Non-trainable params: 0\n",
      "_________________________________________________________________\n",
      "None\n",
      "Train on 6680 samples, validate on 835 samples\n",
      "Epoch 1/100\n",
      "6656/6680 [============================>.] - ETA: 0s - loss: 4.7775 - acc: 0.0380Epoch 00001: val_loss improved from inf to 4.19325, saving model to saved_models/weights.best.Resnet50.hdf5\n",
      "6680/6680 [==============================] - 2s 351us/step - loss: 4.7773 - acc: 0.0380 - val_loss: 4.1932 - val_acc: 0.2012\n",
      "Epoch 2/100\n",
      "6528/6680 [============================>.] - ETA: 0s - loss: 4.0031 - acc: 0.1547Epoch 00002: val_loss improved from 4.19325 to 3.36396, saving model to saved_models/weights.best.Resnet50.hdf5\n",
      "6680/6680 [==============================] - 2s 258us/step - loss: 3.9959 - acc: 0.1567 - val_loss: 3.3640 - val_acc: 0.3880\n",
      "Epoch 3/100\n",
      "6528/6680 [============================>.] - ETA: 0s - loss: 3.3199 - acc: 0.2825Epoch 00003: val_loss improved from 3.36396 to 2.61958, saving model to saved_models/weights.best.Resnet50.hdf5\n",
      "6680/6680 [==============================] - 2s 254us/step - loss: 3.3122 - acc: 0.2834 - val_loss: 2.6196 - val_acc: 0.5138\n",
      "Epoch 4/100\n",
      "6528/6680 [============================>.] - ETA: 0s - loss: 2.7481 - acc: 0.3701Epoch 00004: val_loss improved from 2.61958 to 2.09311, saving model to saved_models/weights.best.Resnet50.hdf5\n",
      "6680/6680 [==============================] - 2s 257us/step - loss: 2.7438 - acc: 0.3707 - val_loss: 2.0931 - val_acc: 0.6060\n",
      "Epoch 5/100\n",
      "6528/6680 [============================>.] - ETA: 0s - loss: 2.2992 - acc: 0.4484Epoch 00005: val_loss improved from 2.09311 to 1.70849, saving model to saved_models/weights.best.Resnet50.hdf5\n",
      "6680/6680 [==============================] - 2s 261us/step - loss: 2.2992 - acc: 0.4475 - val_loss: 1.7085 - val_acc: 0.6647\n",
      "Epoch 6/100\n",
      "6528/6680 [============================>.] - ETA: 0s - loss: 1.9937 - acc: 0.5044Epoch 00006: val_loss improved from 1.70849 to 1.45706, saving model to saved_models/weights.best.Resnet50.hdf5\n",
      "6680/6680 [==============================] - 2s 270us/step - loss: 1.9939 - acc: 0.5043 - val_loss: 1.4571 - val_acc: 0.6934\n",
      "Epoch 7/100\n",
      "6528/6680 [============================>.] - ETA: 0s - loss: 1.7430 - acc: 0.5565Epoch 00007: val_loss improved from 1.45706 to 1.27298, saving model to saved_models/weights.best.Resnet50.hdf5\n",
      "6680/6680 [==============================] - 2s 254us/step - loss: 1.7377 - acc: 0.5582 - val_loss: 1.2730 - val_acc: 0.7186\n",
      "Epoch 8/100\n",
      "6528/6680 [============================>.] - ETA: 0s - loss: 1.5799 - acc: 0.5895Epoch 00008: val_loss improved from 1.27298 to 1.13976, saving model to saved_models/weights.best.Resnet50.hdf5\n",
      "6680/6680 [==============================] - 2s 262us/step - loss: 1.5775 - acc: 0.5906 - val_loss: 1.1398 - val_acc: 0.7437\n",
      "Epoch 9/100\n",
      "6528/6680 [============================>.] - ETA: 0s - loss: 1.4333 - acc: 0.6247Epoch 00009: val_loss improved from 1.13976 to 1.04656, saving model to saved_models/weights.best.Resnet50.hdf5\n",
      "6680/6680 [==============================] - 2s 257us/step - loss: 1.4300 - acc: 0.6257 - val_loss: 1.0466 - val_acc: 0.7377\n",
      "Epoch 10/100\n",
      "6528/6680 [============================>.] - ETA: 0s - loss: 1.3088 - acc: 0.6466Epoch 00010: val_loss improved from 1.04656 to 0.96882, saving model to saved_models/weights.best.Resnet50.hdf5\n",
      "6680/6680 [==============================] - 2s 256us/step - loss: 1.3097 - acc: 0.6454 - val_loss: 0.9688 - val_acc: 0.7725\n",
      "Epoch 11/100\n",
      "6528/6680 [============================>.] - ETA: 0s - loss: 1.2141 - acc: 0.6674Epoch 00011: val_loss improved from 0.96882 to 0.92172, saving model to saved_models/weights.best.Resnet50.hdf5\n",
      "6680/6680 [==============================] - 2s 251us/step - loss: 1.2116 - acc: 0.6678 - val_loss: 0.9217 - val_acc: 0.7641\n",
      "Epoch 12/100\n",
      "6528/6680 [============================>.] - ETA: 0s - loss: 1.1334 - acc: 0.6880Epoch 00012: val_loss improved from 0.92172 to 0.86257, saving model to saved_models/weights.best.Resnet50.hdf5\n",
      "6680/6680 [==============================] - 2s 253us/step - loss: 1.1335 - acc: 0.6873 - val_loss: 0.8626 - val_acc: 0.7904\n",
      "Epoch 13/100\n",
      "6528/6680 [============================>.] - ETA: 0s - loss: 1.0836 - acc: 0.7030Epoch 00013: val_loss improved from 0.86257 to 0.82998, saving model to saved_models/weights.best.Resnet50.hdf5\n",
      "6680/6680 [==============================] - 2s 252us/step - loss: 1.0803 - acc: 0.7036 - val_loss: 0.8300 - val_acc: 0.7844\n",
      "Epoch 14/100\n",
      "6528/6680 [============================>.] - ETA: 0s - loss: 1.0136 - acc: 0.7226Epoch 00014: val_loss improved from 0.82998 to 0.78997, saving model to saved_models/weights.best.Resnet50.hdf5\n",
      "6680/6680 [==============================] - 2s 256us/step - loss: 1.0127 - acc: 0.7220 - val_loss: 0.7900 - val_acc: 0.7904\n",
      "Epoch 15/100\n",
      "6528/6680 [============================>.] - ETA: 0s - loss: 0.9547 - acc: 0.7394Epoch 00015: val_loss improved from 0.78997 to 0.76333, saving model to saved_models/weights.best.Resnet50.hdf5\n",
      "6680/6680 [==============================] - 2s 253us/step - loss: 0.9570 - acc: 0.7391 - val_loss: 0.7633 - val_acc: 0.8000\n",
      "Epoch 16/100\n",
      "6528/6680 [============================>.] - ETA: 0s - loss: 0.9152 - acc: 0.7443Epoch 00016: val_loss improved from 0.76333 to 0.73768, saving model to saved_models/weights.best.Resnet50.hdf5\n",
      "6680/6680 [==============================] - 2s 259us/step - loss: 0.9149 - acc: 0.7442 - val_loss: 0.7377 - val_acc: 0.8096\n",
      "Epoch 17/100\n",
      "6656/6680 [============================>.] - ETA: 0s - loss: 0.8705 - acc: 0.7530Epoch 00017: val_loss improved from 0.73768 to 0.70825, saving model to saved_models/weights.best.Resnet50.hdf5\n",
      "6680/6680 [==============================] - 2s 273us/step - loss: 0.8702 - acc: 0.7533 - val_loss: 0.7083 - val_acc: 0.8192\n",
      "Epoch 18/100\n",
      "6528/6680 [============================>.] - ETA: 0s - loss: 0.8376 - acc: 0.7682Epoch 00018: val_loss improved from 0.70825 to 0.70003, saving model to saved_models/weights.best.Resnet50.hdf5\n",
      "6680/6680 [==============================] - 2s 258us/step - loss: 0.8362 - acc: 0.7686 - val_loss: 0.7000 - val_acc: 0.8096\n",
      "Epoch 19/100\n",
      "6528/6680 [============================>.] - ETA: 0s - loss: 0.8071 - acc: 0.7670Epoch 00019: val_loss improved from 0.70003 to 0.68537, saving model to saved_models/weights.best.Resnet50.hdf5\n",
      "6680/6680 [==============================] - 2s 258us/step - loss: 0.8070 - acc: 0.7678 - val_loss: 0.6854 - val_acc: 0.8144\n",
      "Epoch 20/100\n",
      "6528/6680 [============================>.] - ETA: 0s - loss: 0.7633 - acc: 0.7898Epoch 00020: val_loss improved from 0.68537 to 0.66758, saving model to saved_models/weights.best.Resnet50.hdf5\n",
      "6680/6680 [==============================] - 2s 256us/step - loss: 0.7651 - acc: 0.7894 - val_loss: 0.6676 - val_acc: 0.8132\n",
      "Epoch 21/100\n",
      "6528/6680 [============================>.] - ETA: 0s - loss: 0.7556 - acc: 0.7837Epoch 00021: val_loss improved from 0.66758 to 0.65831, saving model to saved_models/weights.best.Resnet50.hdf5\n",
      "6680/6680 [==============================] - 2s 259us/step - loss: 0.7572 - acc: 0.7826 - val_loss: 0.6583 - val_acc: 0.8096\n",
      "Epoch 22/100\n",
      "6528/6680 [============================>.] - ETA: 0s - loss: 0.7176 - acc: 0.7947Epoch 00022: val_loss improved from 0.65831 to 0.65130, saving model to saved_models/weights.best.Resnet50.hdf5\n",
      "6680/6680 [==============================] - 2s 251us/step - loss: 0.7156 - acc: 0.7955 - val_loss: 0.6513 - val_acc: 0.8192\n",
      "Epoch 23/100\n",
      "6528/6680 [============================>.] - ETA: 0s - loss: 0.6955 - acc: 0.8036Epoch 00023: val_loss improved from 0.65130 to 0.63265, saving model to saved_models/weights.best.Resnet50.hdf5\n",
      "6680/6680 [==============================] - 2s 257us/step - loss: 0.6961 - acc: 0.8019 - val_loss: 0.6327 - val_acc: 0.8251\n",
      "Epoch 24/100\n",
      "6528/6680 [============================>.] - ETA: 0s - loss: 0.6752 - acc: 0.8087Epoch 00024: val_loss improved from 0.63265 to 0.62609, saving model to saved_models/weights.best.Resnet50.hdf5\n",
      "6680/6680 [==============================] - 2s 259us/step - loss: 0.6742 - acc: 0.8087 - val_loss: 0.6261 - val_acc: 0.8240\n",
      "Epoch 25/100\n",
      "6528/6680 [============================>.] - ETA: 0s - loss: 0.6608 - acc: 0.8140Epoch 00025: val_loss improved from 0.62609 to 0.61747, saving model to saved_models/weights.best.Resnet50.hdf5\n",
      "6680/6680 [==============================] - 2s 262us/step - loss: 0.6613 - acc: 0.8136 - val_loss: 0.6175 - val_acc: 0.8204\n",
      "Epoch 26/100\n",
      "6528/6680 [============================>.] - ETA: 0s - loss: 0.6335 - acc: 0.8220Epoch 00026: val_loss improved from 0.61747 to 0.60824, saving model to saved_models/weights.best.Resnet50.hdf5\n",
      "6680/6680 [==============================] - 2s 262us/step - loss: 0.6336 - acc: 0.8225 - val_loss: 0.6082 - val_acc: 0.8287\n",
      "Epoch 27/100\n",
      "6528/6680 [============================>.] - ETA: 0s - loss: 0.6204 - acc: 0.8194Epoch 00027: val_loss improved from 0.60824 to 0.60170, saving model to saved_models/weights.best.Resnet50.hdf5\n",
      "6680/6680 [==============================] - 2s 251us/step - loss: 0.6201 - acc: 0.8198 - val_loss: 0.6017 - val_acc: 0.8275\n",
      "Epoch 28/100\n",
      "6528/6680 [============================>.] - ETA: 0s - loss: 0.5991 - acc: 0.8255Epoch 00028: val_loss improved from 0.60170 to 0.59221, saving model to saved_models/weights.best.Resnet50.hdf5\n",
      "6680/6680 [==============================] - 2s 257us/step - loss: 0.6005 - acc: 0.8251 - val_loss: 0.5922 - val_acc: 0.8275\n",
      "Epoch 29/100\n",
      "6656/6680 [============================>.] - ETA: 0s - loss: 0.5740 - acc: 0.8356Epoch 00029: val_loss did not improve\n",
      "6680/6680 [==============================] - 2s 265us/step - loss: 0.5732 - acc: 0.8359 - val_loss: 0.5939 - val_acc: 0.8275\n",
      "Epoch 30/100\n",
      "6528/6680 [============================>.] - ETA: 0s - loss: 0.5612 - acc: 0.8413Epoch 00030: val_loss improved from 0.59221 to 0.58082, saving model to saved_models/weights.best.Resnet50.hdf5\n",
      "6680/6680 [==============================] - 2s 252us/step - loss: 0.5623 - acc: 0.8410 - val_loss: 0.5808 - val_acc: 0.8335\n",
      "Epoch 31/100\n",
      "6528/6680 [============================>.] - ETA: 0s - loss: 0.5592 - acc: 0.8362Epoch 00031: val_loss improved from 0.58082 to 0.57604, saving model to saved_models/weights.best.Resnet50.hdf5\n",
      "6680/6680 [==============================] - 2s 259us/step - loss: 0.5616 - acc: 0.8352 - val_loss: 0.5760 - val_acc: 0.8359\n",
      "Epoch 32/100\n",
      "6528/6680 [============================>.] - ETA: 0s - loss: 0.5455 - acc: 0.8430Epoch 00032: val_loss improved from 0.57604 to 0.57199, saving model to saved_models/weights.best.Resnet50.hdf5\n",
      "6680/6680 [==============================] - 2s 256us/step - loss: 0.5428 - acc: 0.8439 - val_loss: 0.5720 - val_acc: 0.8347\n",
      "Epoch 33/100\n",
      "6528/6680 [============================>.] - ETA: 0s - loss: 0.5291 - acc: 0.8450Epoch 00033: val_loss did not improve\n",
      "6680/6680 [==============================] - 2s 249us/step - loss: 0.5300 - acc: 0.8454 - val_loss: 0.5740 - val_acc: 0.8299\n",
      "Epoch 34/100\n",
      "6528/6680 [============================>.] - ETA: 0s - loss: 0.5274 - acc: 0.8490Epoch 00034: val_loss improved from 0.57199 to 0.56262, saving model to saved_models/weights.best.Resnet50.hdf5\n",
      "6680/6680 [==============================] - 2s 253us/step - loss: 0.5254 - acc: 0.8496 - val_loss: 0.5626 - val_acc: 0.8371\n",
      "Epoch 35/100\n",
      "6528/6680 [============================>.] - ETA: 0s - loss: 0.4961 - acc: 0.8618Epoch 00035: val_loss improved from 0.56262 to 0.56140, saving model to saved_models/weights.best.Resnet50.hdf5\n",
      "6680/6680 [==============================] - 2s 253us/step - loss: 0.4974 - acc: 0.8618 - val_loss: 0.5614 - val_acc: 0.8299\n",
      "Epoch 36/100\n",
      "6528/6680 [============================>.] - ETA: 0s - loss: 0.4974 - acc: 0.8577Epoch 00036: val_loss improved from 0.56140 to 0.55606, saving model to saved_models/weights.best.Resnet50.hdf5\n",
      "6680/6680 [==============================] - 2s 256us/step - loss: 0.4975 - acc: 0.8581 - val_loss: 0.5561 - val_acc: 0.8287\n",
      "Epoch 37/100\n",
      "6528/6680 [============================>.] - ETA: 0s - loss: 0.4655 - acc: 0.8673Epoch 00037: val_loss improved from 0.55606 to 0.55100, saving model to saved_models/weights.best.Resnet50.hdf5\n",
      "6680/6680 [==============================] - 2s 255us/step - loss: 0.4663 - acc: 0.8665 - val_loss: 0.5510 - val_acc: 0.8383\n",
      "Epoch 38/100\n",
      "6528/6680 [============================>.] - ETA: 0s - loss: 0.4748 - acc: 0.8658Epoch 00038: val_loss improved from 0.55100 to 0.54788, saving model to saved_models/weights.best.Resnet50.hdf5\n",
      "6680/6680 [==============================] - 2s 256us/step - loss: 0.4734 - acc: 0.8665 - val_loss: 0.5479 - val_acc: 0.8479\n",
      "Epoch 39/100\n",
      "6528/6680 [============================>.] - ETA: 0s - loss: 0.4549 - acc: 0.8707Epoch 00039: val_loss improved from 0.54788 to 0.54516, saving model to saved_models/weights.best.Resnet50.hdf5\n",
      "6680/6680 [==============================] - 2s 259us/step - loss: 0.4525 - acc: 0.8717 - val_loss: 0.5452 - val_acc: 0.8455\n",
      "Epoch 40/100\n",
      "6656/6680 [============================>.] - ETA: 0s - loss: 0.4476 - acc: 0.8732Epoch 00040: val_loss improved from 0.54516 to 0.54422, saving model to saved_models/weights.best.Resnet50.hdf5\n",
      "6680/6680 [==============================] - 2s 267us/step - loss: 0.4475 - acc: 0.8732 - val_loss: 0.5442 - val_acc: 0.8383\n",
      "Epoch 41/100\n",
      "6528/6680 [============================>.] - ETA: 0s - loss: 0.4510 - acc: 0.8683Epoch 00041: val_loss did not improve\n",
      "6680/6680 [==============================] - 2s 256us/step - loss: 0.4484 - acc: 0.8696 - val_loss: 0.5444 - val_acc: 0.8395\n",
      "Epoch 42/100\n",
      "6528/6680 [============================>.] - ETA: 0s - loss: 0.4367 - acc: 0.8793Epoch 00042: val_loss improved from 0.54422 to 0.54304, saving model to saved_models/weights.best.Resnet50.hdf5\n",
      "6680/6680 [==============================] - 2s 254us/step - loss: 0.4370 - acc: 0.8792 - val_loss: 0.5430 - val_acc: 0.8371\n",
      "Epoch 43/100\n",
      "6528/6680 [============================>.] - ETA: 0s - loss: 0.4288 - acc: 0.8771Epoch 00043: val_loss improved from 0.54304 to 0.53939, saving model to saved_models/weights.best.Resnet50.hdf5\n",
      "6680/6680 [==============================] - 2s 250us/step - loss: 0.4278 - acc: 0.8778 - val_loss: 0.5394 - val_acc: 0.8311\n",
      "Epoch 44/100\n",
      "6528/6680 [============================>.] - ETA: 0s - loss: 0.4239 - acc: 0.8811Epoch 00044: val_loss improved from 0.53939 to 0.53031, saving model to saved_models/weights.best.Resnet50.hdf5\n",
      "6680/6680 [==============================] - 2s 253us/step - loss: 0.4239 - acc: 0.8805 - val_loss: 0.5303 - val_acc: 0.8383\n",
      "Epoch 45/100\n",
      "6528/6680 [============================>.] - ETA: 0s - loss: 0.4015 - acc: 0.8880Epoch 00045: val_loss did not improve\n",
      "6680/6680 [==============================] - 2s 249us/step - loss: 0.4034 - acc: 0.8876 - val_loss: 0.5367 - val_acc: 0.8371\n",
      "Epoch 46/100\n",
      "6528/6680 [============================>.] - ETA: 0s - loss: 0.4151 - acc: 0.8827Epoch 00046: val_loss did not improve\n",
      "6680/6680 [==============================] - 2s 250us/step - loss: 0.4129 - acc: 0.8832 - val_loss: 0.5305 - val_acc: 0.8371\n",
      "Epoch 47/100\n",
      "6528/6680 [============================>.] - ETA: 0s - loss: 0.3997 - acc: 0.8868Epoch 00047: val_loss improved from 0.53031 to 0.52823, saving model to saved_models/weights.best.Resnet50.hdf5\n",
      "6680/6680 [==============================] - 2s 252us/step - loss: 0.4004 - acc: 0.8870 - val_loss: 0.5282 - val_acc: 0.8383\n",
      "Epoch 48/100\n",
      "6528/6680 [============================>.] - ETA: 0s - loss: 0.3852 - acc: 0.8877Epoch 00048: val_loss improved from 0.52823 to 0.52435, saving model to saved_models/weights.best.Resnet50.hdf5\n",
      "6680/6680 [==============================] - 2s 249us/step - loss: 0.3843 - acc: 0.8879 - val_loss: 0.5243 - val_acc: 0.8383\n",
      "Epoch 49/100\n",
      "6528/6680 [============================>.] - ETA: 0s - loss: 0.3852 - acc: 0.8889Epoch 00049: val_loss improved from 0.52435 to 0.51747, saving model to saved_models/weights.best.Resnet50.hdf5\n",
      "6680/6680 [==============================] - 2s 252us/step - loss: 0.3865 - acc: 0.8889 - val_loss: 0.5175 - val_acc: 0.8407\n",
      "Epoch 50/100\n",
      "6528/6680 [============================>.] - ETA: 0s - loss: 0.3934 - acc: 0.8859Epoch 00050: val_loss did not improve\n",
      "6680/6680 [==============================] - 2s 246us/step - loss: 0.3917 - acc: 0.8858 - val_loss: 0.5207 - val_acc: 0.8491\n",
      "Epoch 51/100\n",
      "6528/6680 [============================>.] - ETA: 0s - loss: 0.3706 - acc: 0.8937Epoch 00051: val_loss did not improve\n",
      "6680/6680 [==============================] - 2s 251us/step - loss: 0.3724 - acc: 0.8942 - val_loss: 0.5215 - val_acc: 0.8419\n",
      "Epoch 52/100\n",
      "6656/6680 [============================>.] - ETA: 0s - loss: 0.3657 - acc: 0.8947Epoch 00052: val_loss did not improve\n",
      "6680/6680 [==============================] - 2s 266us/step - loss: 0.3658 - acc: 0.8946 - val_loss: 0.5210 - val_acc: 0.8455\n",
      "Epoch 53/100\n",
      "6528/6680 [============================>.] - ETA: 0s - loss: 0.3625 - acc: 0.8961Epoch 00053: val_loss did not improve\n",
      "6680/6680 [==============================] - 2s 250us/step - loss: 0.3636 - acc: 0.8958 - val_loss: 0.5203 - val_acc: 0.8419\n",
      "Epoch 54/100\n",
      "6528/6680 [============================>.] - ETA: 0s - loss: 0.3509 - acc: 0.9015Epoch 00054: val_loss improved from 0.51747 to 0.51660, saving model to saved_models/weights.best.Resnet50.hdf5\n",
      "6680/6680 [==============================] - 2s 248us/step - loss: 0.3519 - acc: 0.9010 - val_loss: 0.5166 - val_acc: 0.8443\n",
      "Epoch 55/100\n",
      "6528/6680 [============================>.] - ETA: 0s - loss: 0.3462 - acc: 0.9036Epoch 00055: val_loss improved from 0.51660 to 0.51459, saving model to saved_models/weights.best.Resnet50.hdf5\n",
      "6680/6680 [==============================] - 2s 249us/step - loss: 0.3460 - acc: 0.9034 - val_loss: 0.5146 - val_acc: 0.8443\n",
      "Epoch 56/100\n",
      "6528/6680 [============================>.] - ETA: 0s - loss: 0.3385 - acc: 0.9058Epoch 00056: val_loss did not improve\n",
      "6680/6680 [==============================] - 2s 252us/step - loss: 0.3375 - acc: 0.9058 - val_loss: 0.5147 - val_acc: 0.8419\n",
      "Epoch 57/100\n",
      "6528/6680 [============================>.] - ETA: 0s - loss: 0.3358 - acc: 0.9059Epoch 00057: val_loss improved from 0.51459 to 0.51422, saving model to saved_models/weights.best.Resnet50.hdf5\n",
      "6680/6680 [==============================] - 2s 253us/step - loss: 0.3345 - acc: 0.9067 - val_loss: 0.5142 - val_acc: 0.8443\n",
      "Epoch 58/100\n",
      "6528/6680 [============================>.] - ETA: 0s - loss: 0.3421 - acc: 0.9024Epoch 00058: val_loss improved from 0.51422 to 0.51132, saving model to saved_models/weights.best.Resnet50.hdf5\n",
      "6680/6680 [==============================] - 2s 255us/step - loss: 0.3409 - acc: 0.9024 - val_loss: 0.5113 - val_acc: 0.8419\n",
      "Epoch 59/100\n",
      "6528/6680 [============================>.] - ETA: 0s - loss: 0.3278 - acc: 0.9095Epoch 00059: val_loss improved from 0.51132 to 0.50953, saving model to saved_models/weights.best.Resnet50.hdf5\n",
      "6680/6680 [==============================] - 2s 255us/step - loss: 0.3273 - acc: 0.9093 - val_loss: 0.5095 - val_acc: 0.8443\n",
      "Epoch 60/100\n",
      "6528/6680 [============================>.] - ETA: 0s - loss: 0.3258 - acc: 0.9067Epoch 00060: val_loss improved from 0.50953 to 0.50848, saving model to saved_models/weights.best.Resnet50.hdf5\n",
      "6680/6680 [==============================] - 2s 252us/step - loss: 0.3270 - acc: 0.9058 - val_loss: 0.5085 - val_acc: 0.8443\n",
      "Epoch 61/100\n",
      "6528/6680 [============================>.] - ETA: 0s - loss: 0.3117 - acc: 0.9113Epoch 00061: val_loss improved from 0.50848 to 0.50780, saving model to saved_models/weights.best.Resnet50.hdf5\n",
      "6680/6680 [==============================] - 2s 255us/step - loss: 0.3112 - acc: 0.9115 - val_loss: 0.5078 - val_acc: 0.8431\n",
      "Epoch 62/100\n",
      "6528/6680 [============================>.] - ETA: 0s - loss: 0.3112 - acc: 0.9151Epoch 00062: val_loss improved from 0.50780 to 0.50619, saving model to saved_models/weights.best.Resnet50.hdf5\n",
      "6680/6680 [==============================] - 2s 255us/step - loss: 0.3116 - acc: 0.9157 - val_loss: 0.5062 - val_acc: 0.8443\n",
      "Epoch 63/100\n",
      "6528/6680 [============================>.] - ETA: 0s - loss: 0.3064 - acc: 0.9128Epoch 00063: val_loss improved from 0.50619 to 0.50278, saving model to saved_models/weights.best.Resnet50.hdf5\n",
      "6680/6680 [==============================] - 2s 253us/step - loss: 0.3053 - acc: 0.9130 - val_loss: 0.5028 - val_acc: 0.8503\n",
      "Epoch 64/100\n",
      "6656/6680 [============================>.] - ETA: 0s - loss: 0.3082 - acc: 0.9117Epoch 00064: val_loss did not improve\n",
      "6680/6680 [==============================] - 2s 264us/step - loss: 0.3078 - acc: 0.9118 - val_loss: 0.5041 - val_acc: 0.8455\n",
      "Epoch 65/100\n",
      "6528/6680 [============================>.] - ETA: 0s - loss: 0.3029 - acc: 0.9182Epoch 00065: val_loss did not improve\n",
      "6680/6680 [==============================] - 2s 245us/step - loss: 0.3050 - acc: 0.9171 - val_loss: 0.5052 - val_acc: 0.8491\n",
      "Epoch 66/100\n",
      "6528/6680 [============================>.] - ETA: 0s - loss: 0.2992 - acc: 0.9188Epoch 00066: val_loss did not improve\n",
      "6680/6680 [==============================] - 2s 246us/step - loss: 0.2984 - acc: 0.9189 - val_loss: 0.5054 - val_acc: 0.8419\n",
      "Epoch 67/100\n",
      "6528/6680 [============================>.] - ETA: 0s - loss: 0.2944 - acc: 0.9190Epoch 00067: val_loss improved from 0.50278 to 0.50119, saving model to saved_models/weights.best.Resnet50.hdf5\n",
      "6680/6680 [==============================] - 2s 253us/step - loss: 0.2953 - acc: 0.9178 - val_loss: 0.5012 - val_acc: 0.8443\n",
      "Epoch 68/100\n",
      "6528/6680 [============================>.] - ETA: 0s - loss: 0.2998 - acc: 0.9197Epoch 00068: val_loss did not improve\n",
      "6680/6680 [==============================] - 2s 246us/step - loss: 0.2984 - acc: 0.9202 - val_loss: 0.5042 - val_acc: 0.8491\n",
      "Epoch 69/100\n",
      "6528/6680 [============================>.] - ETA: 0s - loss: 0.2812 - acc: 0.9274Epoch 00069: val_loss did not improve\n",
      "6680/6680 [==============================] - 2s 248us/step - loss: 0.2833 - acc: 0.9260 - val_loss: 0.5048 - val_acc: 0.8443\n",
      "Epoch 70/100\n",
      "6528/6680 [============================>.] - ETA: 0s - loss: 0.2773 - acc: 0.9252Epoch 00070: val_loss improved from 0.50119 to 0.49901, saving model to saved_models/weights.best.Resnet50.hdf5\n",
      "6680/6680 [==============================] - 2s 252us/step - loss: 0.2779 - acc: 0.9251 - val_loss: 0.4990 - val_acc: 0.8443\n",
      "Epoch 71/100\n",
      "6528/6680 [============================>.] - ETA: 0s - loss: 0.2818 - acc: 0.9217Epoch 00071: val_loss improved from 0.49901 to 0.49774, saving model to saved_models/weights.best.Resnet50.hdf5\n",
      "6680/6680 [==============================] - 2s 255us/step - loss: 0.2829 - acc: 0.9213 - val_loss: 0.4977 - val_acc: 0.8515\n",
      "Epoch 72/100\n",
      "6528/6680 [============================>.] - ETA: 0s - loss: 0.2738 - acc: 0.9297Epoch 00072: val_loss improved from 0.49774 to 0.49675, saving model to saved_models/weights.best.Resnet50.hdf5\n",
      "6680/6680 [==============================] - 2s 253us/step - loss: 0.2746 - acc: 0.9293 - val_loss: 0.4968 - val_acc: 0.8431\n",
      "Epoch 73/100\n",
      "6528/6680 [============================>.] - ETA: 0s - loss: 0.2694 - acc: 0.9286Epoch 00073: val_loss improved from 0.49675 to 0.49408, saving model to saved_models/weights.best.Resnet50.hdf5\n",
      "6680/6680 [==============================] - 2s 255us/step - loss: 0.2695 - acc: 0.9286 - val_loss: 0.4941 - val_acc: 0.8443\n",
      "Epoch 74/100\n",
      "6528/6680 [============================>.] - ETA: 0s - loss: 0.2775 - acc: 0.9200Epoch 00074: val_loss did not improve\n",
      "6680/6680 [==============================] - 2s 250us/step - loss: 0.2782 - acc: 0.9196 - val_loss: 0.4953 - val_acc: 0.8491\n",
      "Epoch 75/100\n",
      "6528/6680 [============================>.] - ETA: 0s - loss: 0.2649 - acc: 0.9308Epoch 00075: val_loss did not improve\n",
      "6680/6680 [==============================] - 2s 248us/step - loss: 0.2640 - acc: 0.9313 - val_loss: 0.4985 - val_acc: 0.8443\n",
      "Epoch 76/100\n",
      "6528/6680 [============================>.] - ETA: 0s - loss: 0.2573 - acc: 0.9349Epoch 00076: val_loss did not improve\n",
      "6680/6680 [==============================] - 2s 268us/step - loss: 0.2569 - acc: 0.9350 - val_loss: 0.4973 - val_acc: 0.8443\n",
      "Epoch 77/100\n",
      "6528/6680 [============================>.] - ETA: 0s - loss: 0.2565 - acc: 0.9311Epoch 00077: val_loss improved from 0.49408 to 0.49143, saving model to saved_models/weights.best.Resnet50.hdf5\n",
      "6680/6680 [==============================] - 2s 253us/step - loss: 0.2574 - acc: 0.9307 - val_loss: 0.4914 - val_acc: 0.8467\n",
      "Epoch 78/100\n",
      "6528/6680 [============================>.] - ETA: 0s - loss: 0.2686 - acc: 0.9257Epoch 00078: val_loss did not improve\n",
      "6680/6680 [==============================] - 2s 250us/step - loss: 0.2684 - acc: 0.9259 - val_loss: 0.4917 - val_acc: 0.8443\n",
      "Epoch 79/100\n",
      "6528/6680 [============================>.] - ETA: 0s - loss: 0.2540 - acc: 0.9323Epoch 00079: val_loss did not improve\n",
      "6680/6680 [==============================] - 2s 253us/step - loss: 0.2563 - acc: 0.9320 - val_loss: 0.4925 - val_acc: 0.8407\n",
      "Epoch 80/100\n",
      "6528/6680 [============================>.] - ETA: 0s - loss: 0.2592 - acc: 0.9315Epoch 00080: val_loss did not improve\n",
      "6680/6680 [==============================] - 2s 250us/step - loss: 0.2580 - acc: 0.9322 - val_loss: 0.4920 - val_acc: 0.8467\n",
      "Epoch 81/100\n",
      "6528/6680 [============================>.] - ETA: 0s - loss: 0.2458 - acc: 0.9331Epoch 00081: val_loss improved from 0.49143 to 0.49099, saving model to saved_models/weights.best.Resnet50.hdf5\n",
      "6680/6680 [==============================] - 2s 253us/step - loss: 0.2454 - acc: 0.9332 - val_loss: 0.4910 - val_acc: 0.8479\n",
      "Epoch 82/100\n",
      "6528/6680 [============================>.] - ETA: 0s - loss: 0.2450 - acc: 0.9343Epoch 00082: val_loss improved from 0.49099 to 0.48787, saving model to saved_models/weights.best.Resnet50.hdf5\n",
      "6680/6680 [==============================] - 2s 250us/step - loss: 0.2435 - acc: 0.9349 - val_loss: 0.4879 - val_acc: 0.8479\n",
      "Epoch 83/100\n",
      "6528/6680 [============================>.] - ETA: 0s - loss: 0.2413 - acc: 0.9352Epoch 00083: val_loss did not improve\n",
      "6680/6680 [==============================] - 2s 249us/step - loss: 0.2413 - acc: 0.9355 - val_loss: 0.4898 - val_acc: 0.8455\n",
      "Epoch 84/100\n",
      "6528/6680 [============================>.] - ETA: 0s - loss: 0.2351 - acc: 0.9377Epoch 00084: val_loss improved from 0.48787 to 0.48662, saving model to saved_models/weights.best.Resnet50.hdf5\n",
      "6680/6680 [==============================] - 2s 254us/step - loss: 0.2354 - acc: 0.9380 - val_loss: 0.4866 - val_acc: 0.8527\n",
      "Epoch 85/100\n",
      "6528/6680 [============================>.] - ETA: 0s - loss: 0.2410 - acc: 0.9406Epoch 00085: val_loss did not improve\n",
      "6680/6680 [==============================] - 2s 248us/step - loss: 0.2401 - acc: 0.9407 - val_loss: 0.4883 - val_acc: 0.8515\n",
      "Epoch 86/100\n",
      "6528/6680 [============================>.] - ETA: 0s - loss: 0.2414 - acc: 0.9332Epoch 00086: val_loss did not improve\n",
      "6680/6680 [==============================] - 2s 249us/step - loss: 0.2426 - acc: 0.9331 - val_loss: 0.4894 - val_acc: 0.8539\n",
      "Epoch 87/100\n",
      "6528/6680 [============================>.] - ETA: 0s - loss: 0.2351 - acc: 0.9390Epoch 00087: val_loss did not improve\n",
      "6680/6680 [==============================] - 2s 253us/step - loss: 0.2363 - acc: 0.9383 - val_loss: 0.4889 - val_acc: 0.8479\n",
      "Epoch 88/100\n",
      "6528/6680 [============================>.] - ETA: 0s - loss: 0.2341 - acc: 0.9367Epoch 00088: val_loss did not improve\n",
      "6680/6680 [==============================] - 2s 264us/step - loss: 0.2334 - acc: 0.9368 - val_loss: 0.4886 - val_acc: 0.8455\n",
      "Epoch 89/100\n",
      "6528/6680 [============================>.] - ETA: 0s - loss: 0.2258 - acc: 0.9404Epoch 00089: val_loss did not improve\n",
      "6680/6680 [==============================] - 2s 249us/step - loss: 0.2258 - acc: 0.9403 - val_loss: 0.4885 - val_acc: 0.8515\n",
      "Epoch 90/100\n",
      "6528/6680 [============================>.] - ETA: 0s - loss: 0.2179 - acc: 0.9432Epoch 00090: val_loss improved from 0.48662 to 0.48261, saving model to saved_models/weights.best.Resnet50.hdf5\n",
      "6680/6680 [==============================] - 2s 250us/step - loss: 0.2173 - acc: 0.9437 - val_loss: 0.4826 - val_acc: 0.8539\n",
      "Epoch 91/100\n",
      "6528/6680 [============================>.] - ETA: 0s - loss: 0.2207 - acc: 0.9424Epoch 00091: val_loss did not improve\n",
      "6680/6680 [==============================] - 2s 246us/step - loss: 0.2206 - acc: 0.9424 - val_loss: 0.4865 - val_acc: 0.8503\n",
      "Epoch 92/100\n",
      "6528/6680 [============================>.] - ETA: 0s - loss: 0.2189 - acc: 0.9447Epoch 00092: val_loss did not improve\n",
      "6680/6680 [==============================] - 2s 249us/step - loss: 0.2194 - acc: 0.9440 - val_loss: 0.4831 - val_acc: 0.8491\n",
      "Epoch 93/100\n",
      "6528/6680 [============================>.] - ETA: 0s - loss: 0.2170 - acc: 0.9418Epoch 00093: val_loss did not improve\n",
      "6680/6680 [==============================] - 2s 249us/step - loss: 0.2185 - acc: 0.9407 - val_loss: 0.4862 - val_acc: 0.8539\n",
      "Epoch 94/100\n",
      "6528/6680 [============================>.] - ETA: 0s - loss: 0.2100 - acc: 0.9508Epoch 00094: val_loss did not improve\n",
      "6680/6680 [==============================] - 2s 248us/step - loss: 0.2100 - acc: 0.9510 - val_loss: 0.4830 - val_acc: 0.8539\n",
      "Epoch 95/100\n",
      "6528/6680 [============================>.] - ETA: 0s - loss: 0.2050 - acc: 0.9494Epoch 00095: val_loss improved from 0.48261 to 0.48218, saving model to saved_models/weights.best.Resnet50.hdf5\n",
      "6680/6680 [==============================] - 2s 250us/step - loss: 0.2052 - acc: 0.9493 - val_loss: 0.4822 - val_acc: 0.8527\n",
      "Epoch 96/100\n",
      "6528/6680 [============================>.] - ETA: 0s - loss: 0.2079 - acc: 0.9455Epoch 00096: val_loss improved from 0.48218 to 0.48050, saving model to saved_models/weights.best.Resnet50.hdf5\n",
      "6680/6680 [==============================] - 2s 251us/step - loss: 0.2068 - acc: 0.9457 - val_loss: 0.4805 - val_acc: 0.8503\n",
      "Epoch 97/100\n",
      "6528/6680 [============================>.] - ETA: 0s - loss: 0.2051 - acc: 0.9481Epoch 00097: val_loss did not improve\n",
      "6680/6680 [==============================] - 2s 248us/step - loss: 0.2052 - acc: 0.9481 - val_loss: 0.4851 - val_acc: 0.8539\n",
      "Epoch 98/100\n",
      "6528/6680 [============================>.] - ETA: 0s - loss: 0.2067 - acc: 0.9455Epoch 00098: val_loss did not improve\n",
      "6680/6680 [==============================] - 2s 248us/step - loss: 0.2076 - acc: 0.9452 - val_loss: 0.4849 - val_acc: 0.8491\n",
      "Epoch 99/100\n",
      "6528/6680 [============================>.] - ETA: 0s - loss: 0.2016 - acc: 0.9487Epoch 00099: val_loss did not improve\n",
      "6680/6680 [==============================] - 2s 251us/step - loss: 0.1999 - acc: 0.9491 - val_loss: 0.4833 - val_acc: 0.8515\n",
      "Epoch 100/100\n",
      "6528/6680 [============================>.] - ETA: 0s - loss: 0.1952 - acc: 0.9531Epoch 00100: val_loss improved from 0.48050 to 0.47946, saving model to saved_models/weights.best.Resnet50.hdf5\n",
      "6680/6680 [==============================] - 2s 266us/step - loss: 0.1956 - acc: 0.9527 - val_loss: 0.4795 - val_acc: 0.8479\n"
     ]
    }
   ],
   "source": [
    "# setup, compile and train the model using different hyper-parameter values\n",
    "Resnet50_model = setup_resnet(dropout=0.5)\n",
    "Resnet50_model = compile_resnet(Resnet50_model, lr=0.01, momentum=0.5, nestorov=True)\n",
    "train_resnet(Resnet50_model, epochs=100, batch_size=128)"
   ]
  },
  {
   "cell_type": "markdown",
   "metadata": {},
   "source": [
    "### (IMPLEMENTATION) Load the Model with the Best Validation Loss"
   ]
  },
  {
   "cell_type": "code",
   "execution_count": 39,
   "metadata": {},
   "outputs": [],
   "source": [
    "### TODO: Load the model weights with the best validation loss.\n",
    "Resnet50_model.load_weights('saved_models/weights.best.Resnet50.hdf5')"
   ]
  },
  {
   "cell_type": "markdown",
   "metadata": {},
   "source": [
    "### (IMPLEMENTATION) Test the Model\n",
    "\n",
    "Try out your model on the test dataset of dog images. Ensure that your test accuracy is greater than 60%."
   ]
  },
  {
   "cell_type": "code",
   "execution_count": 40,
   "metadata": {},
   "outputs": [
    {
     "name": "stdout",
     "output_type": "stream",
     "text": [
      "Test accuracy: 85.1675%\n"
     ]
    }
   ],
   "source": [
    "### TODO: Calculate classification accuracy on the test dataset.\n",
    "# get index of predicted dog breed for each image in test set\n",
    "Resnet50_predictions = [np.argmax(Resnet50_model.predict(np.expand_dims(feature, axis=0))) for feature in test_Resnet50]\n",
    "\n",
    "# report test accuracy\n",
    "test_accuracy = 100*np.sum(np.array(Resnet50_predictions)==np.argmax(test_targets, axis=1))/len(Resnet50_predictions)\n",
    "print('Test accuracy: %.4f%%' % test_accuracy)"
   ]
  },
  {
   "cell_type": "markdown",
   "metadata": {},
   "source": [
    "This looks good. Let's make sure to save this model."
   ]
  },
  {
   "cell_type": "code",
   "execution_count": 43,
   "metadata": {},
   "outputs": [],
   "source": [
    "Resnet50_model.save('saved_models/85_acc_Resnet50_dogbreed_clf.hdf5')"
   ]
  },
  {
   "cell_type": "markdown",
   "metadata": {},
   "source": [
    "### (IMPLEMENTATION) Predict Dog Breed with the Model\n",
    "\n",
    "Write a function that takes an image path as input and returns the dog breed (`Affenpinscher`, `Afghan_hound`, etc) that is predicted by your model.  \n",
    "\n",
    "Similar to the analogous function in Step 5, your function should have three steps:\n",
    "1. Extract the bottleneck features corresponding to the chosen CNN model.\n",
    "2. Supply the bottleneck features as input to the model to return the predicted vector.  Note that the argmax of this prediction vector gives the index of the predicted dog breed.\n",
    "3. Use the `dog_names` array defined in Step 0 of this notebook to return the corresponding breed.\n",
    "\n",
    "The functions to extract the bottleneck features can be found in `extract_bottleneck_features.py`, and they have been imported in an earlier code cell.  To obtain the bottleneck features corresponding to your chosen CNN architecture, you need to use the function\n",
    "\n",
    "    extract_{network}\n",
    "    \n",
    "where `{network}`, in the above filename, should be one of `VGG19`, `Resnet50`, `InceptionV3`, or `Xception`."
   ]
  },
  {
   "cell_type": "code",
   "execution_count": 47,
   "metadata": {},
   "outputs": [],
   "source": [
    "### TODO: Write a function that takes a path to an image as input\n",
    "### and returns the dog breed that is predicted by the model.\n",
    "def Resnet50_predict_breed(model, img_path):\n",
    "    # extract bottleneck features\n",
    "    bottleneck_feature = extract_Resnet50(path_to_tensor(img_path))\n",
    "    # obtain predicted vector\n",
    "    predicted_vector = model.predict(bottleneck_feature)\n",
    "    # return dog breed that is predicted by the model\n",
    "    return dog_names[np.argmax(predicted_vector)]"
   ]
  },
  {
   "cell_type": "code",
   "execution_count": 50,
   "metadata": {},
   "outputs": [
    {
     "data": {
      "text/plain": [
       "'ages/train/094.Komondor'"
      ]
     },
     "execution_count": 50,
     "metadata": {},
     "output_type": "execute_result"
    }
   ],
   "source": [
    "Resnet50_predict_breed(Resnet50_model, human_files_short[0])"
   ]
  },
  {
   "cell_type": "code",
   "execution_count": 78,
   "metadata": {},
   "outputs": [],
   "source": [
    "def display_prediction(model, img_path):\n",
    "    prediction = Resnet50_predict_breed(model, img_path)\n",
    "    # read in image\n",
    "    img = cv2.imread(img_path)\n",
    "    # convert BGR image to RGB for plotting\n",
    "    cv_rgb = cv2.cvtColor(img, cv2.COLOR_BGR2RGB)\n",
    "    # display the image, along with bounding box\n",
    "    plt.imshow(cv_rgb)\n",
    "    plt.xticks([])\n",
    "    plt.yticks([])\n",
    "    plt.show()\n",
    "    print('Clearly a {}!'.format(prediction))"
   ]
  },
  {
   "cell_type": "code",
   "execution_count": 79,
   "metadata": {},
   "outputs": [
    {
     "data": {
      "image/png": "[encoded data removed]",
      "text/plain": [
       "<matplotlib.figure.Figure at 0x7faaf0fea390>"
      ]
     },
     "metadata": {},
     "output_type": "display_data"
    },
    {
     "name": "stdout",
     "output_type": "stream",
     "text": [
      "Clearly a Welsh_springer_spaniel!\n"
     ]
    }
   ],
   "source": [
    "display_prediction(Resnet50_model, 'images/Welsh_springer_spaniel_08203.jpg')"
   ]
  },
  {
   "cell_type": "markdown",
   "metadata": {},
   "source": [
    "---\n",
    "<a id='step6'></a>\n",
    "## Step 6: Write your Algorithm\n",
    "\n",
    "Write an algorithm that accepts a file path to an image and first determines whether the image contains a human, dog, or neither.  Then,\n",
    "- if a __dog__ is detected in the image, return the predicted breed.\n",
    "- if a __human__ is detected in the image, return the resembling dog breed.\n",
    "- if __neither__ is detected in the image, provide output that indicates an error.\n",
    "\n",
    "You are welcome to write your own functions for detecting humans and dogs in images, but feel free to use the `face_detector` and `dog_detector` functions developed above.  You are __required__ to use your CNN from Step 5 to predict dog breed.  \n",
    "\n",
    "A sample image and output for our algorithm is provided below, but feel free to design your own user experience!\n",
    "\n",
    "![Sample Human Output](images/sample_human_2.png)\n",
    "\n",
    "This photo looks like an Afghan Hound.\n",
    "### (IMPLEMENTATION) Write your Algorithm"
   ]
  },
  {
   "cell_type": "code",
   "execution_count": null,
   "metadata": {
    "collapsed": true
   },
   "outputs": [],
   "source": [
    "### TODO: Write your algorithm.\n",
    "### Feel free to use as many code cells as needed."
   ]
  },
  {
   "cell_type": "markdown",
   "metadata": {},
   "source": [
    "---\n",
    "<a id='step7'></a>\n",
    "## Step 7: Test Your Algorithm\n",
    "\n",
    "In this section, you will take your new algorithm for a spin!  What kind of dog does the algorithm think that __you__ look like?  If you have a dog, does it predict your dog's breed accurately?  If you have a cat, does it mistakenly think that your cat is a dog?\n",
    "\n",
    "### (IMPLEMENTATION) Test Your Algorithm on Sample Images!\n",
    "\n",
    "Test your algorithm at least six images on your computer.  Feel free to use any images you like.  Use at least two human and two dog images.  \n",
    "\n",
    "__Question 6:__ Is the output better than you expected :) ?  Or worse :( ?  Provide at least three possible points of improvement for your algorithm.\n",
    "\n",
    "__Answer:__ "
   ]
  },
  {
   "cell_type": "code",
   "execution_count": null,
   "metadata": {
    "collapsed": true
   },
   "outputs": [],
   "source": [
    "## TODO: Execute your algorithm from Step 6 on\n",
    "## at least 6 images on your computer.\n",
    "## Feel free to use as many code cells as needed."
   ]
  }
 ],
 "metadata": {
  "anaconda-cloud": {},
  "kernelspec": {
   "display_name": "Python 3",
   "language": "python",
   "name": "python3"
  },
  "language_info": {
   "codemirror_mode": {
    "name": "ipython",
    "version": 3
   },
   "file_extension": ".py",
   "mimetype": "text/x-python",
   "name": "python",
   "nbconvert_exporter": "python",
   "pygments_lexer": "ipython3",
   "version": "3.6.3"
  }
 },
 "nbformat": 4,
 "nbformat_minor": 1
}
